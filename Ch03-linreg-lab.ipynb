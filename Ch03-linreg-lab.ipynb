{
 "cells": [
  {
   "cell_type": "markdown",
   "id": "18156290",
   "metadata": {},
   "source": [
    "\n",
    "# Linear Regression\n",
    "\n",
    "<a target=\"_blank\" href=\"https://colab.research.google.com/github/intro-stat-learning/ISLP_labs/blob/v2.2/Ch03-linreg-lab.ipynb\">\n",
    "<img src=\"https://colab.research.google.com/assets/colab-badge.svg\" alt=\"Open In Colab\"/>\n",
    "</a>\n",
    "\n",
    "[![Binder](https://mybinder.org/badge_logo.svg)](https://mybinder.org/v2/gh/intro-stat-learning/ISLP_labs/v2.2?labpath=Ch03-linreg-lab.ipynb)\n"
   ]
  },
  {
   "metadata": {},
   "cell_type": "markdown",
   "source": [
    "## Importing packages\n",
    "We import our standard libraries at this top\n",
    "level."
   ],
   "id": "7c62aa70"
  },
  {
   "cell_type": "code",
   "id": "10319805fc4197f4",
   "metadata": {
    "ExecuteTime": {
     "end_time": "2025-01-09T11:33:58.878819Z",
     "start_time": "2025-01-09T11:33:58.876787Z"
    }
   },
   "source": [
    "# We can catch all errors in the ci/cd process\n",
    "import warnings\n",
    "\n",
    "# Promote all warnings to errors\n",
    "warnings.filterwarnings('error')"
   ],
   "outputs": [],
   "execution_count": 2
  },
  {
   "metadata": {
    "execution": {
     "iopub.execute_input": "2024-06-04T23:19:06.947153Z",
     "iopub.status.busy": "2024-06-04T23:19:06.946906Z",
     "iopub.status.idle": "2024-06-04T23:19:07.382217Z",
     "shell.execute_reply": "2024-06-04T23:19:07.381975Z"
    },
    "lines_to_next_cell": 2,
    "ExecuteTime": {
     "end_time": "2025-01-09T11:33:59.388519Z",
     "start_time": "2025-01-09T11:33:58.892765Z"
    }
   },
   "cell_type": "code",
   "source": [
    "import numpy as np\n",
    "import pandas as pd\n",
    "from matplotlib.pyplot import subplots"
   ],
   "id": "c5fcfd8f",
   "outputs": [],
   "execution_count": 3
  },
  {
   "cell_type": "markdown",
   "id": "bc3e353a",
   "metadata": {},
   "source": [
    "### New imports\n",
    "Throughout this lab we will introduce new functions and libraries. However,\n",
    "we will import them here to emphasize these are the new\n",
    "code objects in this lab. Keeping imports near the top\n",
    "of a notebook makes the code more readable, since scanning the first few\n",
    "lines tells us what libraries are used."
   ]
  },
  {
   "cell_type": "code",
   "id": "42cfb62e",
   "metadata": {
    "execution": {
     "iopub.execute_input": "2024-06-04T23:19:07.383806Z",
     "iopub.status.busy": "2024-06-04T23:19:07.383707Z",
     "iopub.status.idle": "2024-06-04T23:19:07.847757Z",
     "shell.execute_reply": "2024-06-04T23:19:07.847487Z"
    },
    "lines_to_next_cell": 0,
    "ExecuteTime": {
     "end_time": "2025-01-09T11:34:37.130700Z",
     "start_time": "2025-01-09T11:33:59.391385Z"
    }
   },
   "source": [
    "import statsmodels.api as sm\n"
   ],
   "outputs": [],
   "execution_count": 4
  },
  {
   "cell_type": "markdown",
   "id": "dd7ce405",
   "metadata": {},
   "source": [
    " We will provide relevant details about the\n",
    "functions below as they are needed.\n",
    "\n",
    "Besides importing whole modules, it is also possible\n",
    "to import only a few items from a given module. This\n",
    "will help keep the  *namespace* clean.\n",
    "We will use a few specific objects from the `statsmodels` package\n",
    "which we import here."
   ]
  },
  {
   "cell_type": "code",
   "id": "b387d3ac",
   "metadata": {
    "execution": {
     "iopub.execute_input": "2024-06-04T23:19:07.849417Z",
     "iopub.status.busy": "2024-06-04T23:19:07.849298Z",
     "iopub.status.idle": "2024-06-04T23:19:07.851636Z",
     "shell.execute_reply": "2024-06-04T23:19:07.851436Z"
    },
    "ExecuteTime": {
     "end_time": "2025-01-09T11:34:37.138672Z",
     "start_time": "2025-01-09T11:34:37.134223Z"
    }
   },
   "source": [
    "from statsmodels.stats.outliers_influence \\\n",
    "     import variance_inflation_factor as VIF\n",
    "from statsmodels.stats.anova import anova_lm\n"
   ],
   "outputs": [],
   "execution_count": 5
  },
  {
   "cell_type": "markdown",
   "id": "b4713b12",
   "metadata": {},
   "source": [
    "As one of the import statements above is quite a long line, we inserted a line break `\\` to\n",
    "ease readability.\n",
    "\n",
    "We will also use some functions written for the labs in this book in the `ISLP`\n",
    "package."
   ]
  },
  {
   "cell_type": "code",
   "id": "307b7e22",
   "metadata": {
    "execution": {
     "iopub.execute_input": "2024-06-04T23:19:07.852868Z",
     "iopub.status.busy": "2024-06-04T23:19:07.852785Z",
     "iopub.status.idle": "2024-06-04T23:19:07.979269Z",
     "shell.execute_reply": "2024-06-04T23:19:07.978990Z"
    },
    "ExecuteTime": {
     "end_time": "2025-01-09T11:34:44.877861Z",
     "start_time": "2025-01-09T11:34:37.142128Z"
    }
   },
   "source": [
    "from ISLP import load_data\n",
    "from ISLP.models import (ModelSpec as MS,\n",
    "                         summarize,\n",
    "                         poly)\n"
   ],
   "outputs": [],
   "execution_count": 6
  },
  {
   "cell_type": "markdown",
   "id": "81d778fb",
   "metadata": {},
   "source": [
    "### Inspecting Objects and Namespaces\n",
    "The\n",
    "function  `dir()`\n",
    "provides a list of\n",
    "objects in a namespace."
   ]
  },
  {
   "cell_type": "code",
   "id": "79099069",
   "metadata": {
    "execution": {
     "iopub.execute_input": "2024-06-04T23:19:07.981106Z",
     "iopub.status.busy": "2024-06-04T23:19:07.980941Z",
     "iopub.status.idle": "2024-06-04T23:19:07.983820Z",
     "shell.execute_reply": "2024-06-04T23:19:07.983580Z"
    },
    "lines_to_next_cell": 0,
    "ExecuteTime": {
     "end_time": "2025-01-09T11:34:44.886169Z",
     "start_time": "2025-01-09T11:34:44.882965Z"
    }
   },
   "source": [
    "dir()\n"
   ],
   "outputs": [
    {
     "data": {
      "text/plain": [
       "['In',\n",
       " 'MS',\n",
       " 'Out',\n",
       " 'VIF',\n",
       " '_',\n",
       " '__',\n",
       " '___',\n",
       " '__builtin__',\n",
       " '__builtins__',\n",
       " '__doc__',\n",
       " '__loader__',\n",
       " '__name__',\n",
       " '__package__',\n",
       " '__session__',\n",
       " '__spec__',\n",
       " '_dh',\n",
       " '_i',\n",
       " '_i1',\n",
       " '_i2',\n",
       " '_i3',\n",
       " '_i4',\n",
       " '_i5',\n",
       " '_i6',\n",
       " '_i7',\n",
       " '_ih',\n",
       " '_ii',\n",
       " '_iii',\n",
       " '_oh',\n",
       " '_pydevd_bundle',\n",
       " 'anova_lm',\n",
       " 'exit',\n",
       " 'get_ipython',\n",
       " 'load_data',\n",
       " 'np',\n",
       " 'open',\n",
       " 'pd',\n",
       " 'poly',\n",
       " 'pydev_jupyter_vars',\n",
       " 'quit',\n",
       " 'remove_imported_pydev_package',\n",
       " 'sm',\n",
       " 'subplots',\n",
       " 'summarize',\n",
       " 'sys',\n",
       " 'warnings']"
      ]
     },
     "execution_count": 7,
     "metadata": {},
     "output_type": "execute_result"
    }
   ],
   "execution_count": 7
  },
  {
   "cell_type": "markdown",
   "id": "237f9711",
   "metadata": {},
   "source": [
    " This shows you everything that `Python` can find at the top level.\n",
    "There are certain objects like `__builtins__` that contain references to built-in\n",
    "functions like `print()`.\n",
    "\n",
    "Every python object has its own notion of\n",
    "namespace, also accessible with `dir()`. This will include\n",
    "both the attributes of the object\n",
    "as well as any methods associated with it. For instance, we see `'sum'` in the listing for an\n",
    "array."
   ]
  },
  {
   "cell_type": "code",
   "id": "3f99195f",
   "metadata": {
    "execution": {
     "iopub.execute_input": "2024-06-04T23:19:07.985095Z",
     "iopub.status.busy": "2024-06-04T23:19:07.985002Z",
     "iopub.status.idle": "2024-06-04T23:19:07.987401Z",
     "shell.execute_reply": "2024-06-04T23:19:07.987190Z"
    },
    "lines_to_next_cell": 0,
    "ExecuteTime": {
     "end_time": "2025-01-09T11:34:44.926234Z",
     "start_time": "2025-01-09T11:34:44.923686Z"
    }
   },
   "source": [
    "A = np.array([3,5,11])\n",
    "dir(A)\n"
   ],
   "outputs": [
    {
     "data": {
      "text/plain": [
       "['T',\n",
       " '__abs__',\n",
       " '__add__',\n",
       " '__and__',\n",
       " '__array__',\n",
       " '__array_finalize__',\n",
       " '__array_function__',\n",
       " '__array_interface__',\n",
       " '__array_prepare__',\n",
       " '__array_priority__',\n",
       " '__array_struct__',\n",
       " '__array_ufunc__',\n",
       " '__array_wrap__',\n",
       " '__bool__',\n",
       " '__buffer__',\n",
       " '__class__',\n",
       " '__class_getitem__',\n",
       " '__complex__',\n",
       " '__contains__',\n",
       " '__copy__',\n",
       " '__deepcopy__',\n",
       " '__delattr__',\n",
       " '__delitem__',\n",
       " '__dir__',\n",
       " '__divmod__',\n",
       " '__dlpack__',\n",
       " '__dlpack_device__',\n",
       " '__doc__',\n",
       " '__eq__',\n",
       " '__float__',\n",
       " '__floordiv__',\n",
       " '__format__',\n",
       " '__ge__',\n",
       " '__getattribute__',\n",
       " '__getitem__',\n",
       " '__getstate__',\n",
       " '__gt__',\n",
       " '__hash__',\n",
       " '__iadd__',\n",
       " '__iand__',\n",
       " '__ifloordiv__',\n",
       " '__ilshift__',\n",
       " '__imatmul__',\n",
       " '__imod__',\n",
       " '__imul__',\n",
       " '__index__',\n",
       " '__init__',\n",
       " '__init_subclass__',\n",
       " '__int__',\n",
       " '__invert__',\n",
       " '__ior__',\n",
       " '__ipow__',\n",
       " '__irshift__',\n",
       " '__isub__',\n",
       " '__iter__',\n",
       " '__itruediv__',\n",
       " '__ixor__',\n",
       " '__le__',\n",
       " '__len__',\n",
       " '__lshift__',\n",
       " '__lt__',\n",
       " '__matmul__',\n",
       " '__mod__',\n",
       " '__mul__',\n",
       " '__ne__',\n",
       " '__neg__',\n",
       " '__new__',\n",
       " '__or__',\n",
       " '__pos__',\n",
       " '__pow__',\n",
       " '__radd__',\n",
       " '__rand__',\n",
       " '__rdivmod__',\n",
       " '__reduce__',\n",
       " '__reduce_ex__',\n",
       " '__repr__',\n",
       " '__rfloordiv__',\n",
       " '__rlshift__',\n",
       " '__rmatmul__',\n",
       " '__rmod__',\n",
       " '__rmul__',\n",
       " '__ror__',\n",
       " '__rpow__',\n",
       " '__rrshift__',\n",
       " '__rshift__',\n",
       " '__rsub__',\n",
       " '__rtruediv__',\n",
       " '__rxor__',\n",
       " '__setattr__',\n",
       " '__setitem__',\n",
       " '__setstate__',\n",
       " '__sizeof__',\n",
       " '__str__',\n",
       " '__sub__',\n",
       " '__subclasshook__',\n",
       " '__truediv__',\n",
       " '__xor__',\n",
       " 'all',\n",
       " 'any',\n",
       " 'argmax',\n",
       " 'argmin',\n",
       " 'argpartition',\n",
       " 'argsort',\n",
       " 'astype',\n",
       " 'base',\n",
       " 'byteswap',\n",
       " 'choose',\n",
       " 'clip',\n",
       " 'compress',\n",
       " 'conj',\n",
       " 'conjugate',\n",
       " 'copy',\n",
       " 'ctypes',\n",
       " 'cumprod',\n",
       " 'cumsum',\n",
       " 'data',\n",
       " 'diagonal',\n",
       " 'dot',\n",
       " 'dtype',\n",
       " 'dump',\n",
       " 'dumps',\n",
       " 'fill',\n",
       " 'flags',\n",
       " 'flat',\n",
       " 'flatten',\n",
       " 'getfield',\n",
       " 'imag',\n",
       " 'item',\n",
       " 'itemset',\n",
       " 'itemsize',\n",
       " 'max',\n",
       " 'mean',\n",
       " 'min',\n",
       " 'nbytes',\n",
       " 'ndim',\n",
       " 'newbyteorder',\n",
       " 'nonzero',\n",
       " 'partition',\n",
       " 'prod',\n",
       " 'ptp',\n",
       " 'put',\n",
       " 'ravel',\n",
       " 'real',\n",
       " 'repeat',\n",
       " 'reshape',\n",
       " 'resize',\n",
       " 'round',\n",
       " 'searchsorted',\n",
       " 'setfield',\n",
       " 'setflags',\n",
       " 'shape',\n",
       " 'size',\n",
       " 'sort',\n",
       " 'squeeze',\n",
       " 'std',\n",
       " 'strides',\n",
       " 'sum',\n",
       " 'swapaxes',\n",
       " 'take',\n",
       " 'tobytes',\n",
       " 'tofile',\n",
       " 'tolist',\n",
       " 'tostring',\n",
       " 'trace',\n",
       " 'transpose',\n",
       " 'var',\n",
       " 'view']"
      ]
     },
     "execution_count": 8,
     "metadata": {},
     "output_type": "execute_result"
    }
   ],
   "execution_count": 8
  },
  {
   "cell_type": "markdown",
   "id": "9d776f61",
   "metadata": {},
   "source": [
    " This indicates that the object `A.sum` exists. In this case it is a method\n",
    "that can be used to compute the sum of the array `A` as can be seen by typing `A.sum?`."
   ]
  },
  {
   "cell_type": "code",
   "id": "f3f913ca",
   "metadata": {
    "execution": {
     "iopub.execute_input": "2024-06-04T23:19:07.988574Z",
     "iopub.status.busy": "2024-06-04T23:19:07.988481Z",
     "iopub.status.idle": "2024-06-04T23:19:07.990266Z",
     "shell.execute_reply": "2024-06-04T23:19:07.990078Z"
    },
    "lines_to_next_cell": 0,
    "ExecuteTime": {
     "end_time": "2025-01-09T11:34:44.952015Z",
     "start_time": "2025-01-09T11:34:44.949580Z"
    }
   },
   "source": [
    "A.sum()\n"
   ],
   "outputs": [
    {
     "data": {
      "text/plain": [
       "19"
      ]
     },
     "execution_count": 9,
     "metadata": {},
     "output_type": "execute_result"
    }
   ],
   "execution_count": 9
  },
  {
   "cell_type": "markdown",
   "id": "974fad08",
   "metadata": {},
   "source": [
    "    "
   ]
  },
  {
   "cell_type": "markdown",
   "id": "0b212f1f",
   "metadata": {},
   "source": [
    "## Simple Linear Regression\n",
    "In this section we will  construct model \n",
    "matrices (also called design matrices) using the `ModelSpec()`  transform from `ISLP.models`.\n",
    "\n",
    "We  will use the `Boston` housing data set, which is contained in the `ISLP` package.  The `Boston` dataset records  `medv`  (median house value) for $506$ neighborhoods\n",
    "around Boston.  We will build a regression model to predict  `medv`  using $13$\n",
    "predictors such as  `rmvar`  (average number of rooms per house),\n",
    " `age`  (proportion of owner-occupied units built prior to 1940), and  `lstat`  (percent of\n",
    "households with low socioeconomic status).  We will use `statsmodels` for this\n",
    "task, a `Python` package that implements several commonly used\n",
    "regression methods.\n",
    "\n",
    "We have included a simple loading function `load_data()` in the\n",
    "`ISLP` package:"
   ]
  },
  {
   "cell_type": "code",
   "id": "d720e2c5",
   "metadata": {
    "execution": {
     "iopub.execute_input": "2024-06-04T23:19:07.991415Z",
     "iopub.status.busy": "2024-06-04T23:19:07.991335Z",
     "iopub.status.idle": "2024-06-04T23:19:07.995566Z",
     "shell.execute_reply": "2024-06-04T23:19:07.995348Z"
    },
    "ExecuteTime": {
     "end_time": "2025-01-09T11:34:44.980725Z",
     "start_time": "2025-01-09T11:34:44.973592Z"
    }
   },
   "source": [
    "Boston = load_data(\"Boston\")\n",
    "Boston.columns\n"
   ],
   "outputs": [
    {
     "data": {
      "text/plain": [
       "Index(['crim', 'zn', 'indus', 'chas', 'nox', 'rm', 'age', 'dis', 'rad', 'tax',\n",
       "       'ptratio', 'lstat', 'medv'],\n",
       "      dtype='object')"
      ]
     },
     "execution_count": 10,
     "metadata": {},
     "output_type": "execute_result"
    }
   ],
   "execution_count": 10
  },
  {
   "cell_type": "markdown",
   "id": "27b9c8f5",
   "metadata": {},
   "source": [
    "Type `Boston?` to find out more about these data.\n",
    "\n",
    "We start by using the `sm.OLS()`  function to fit a\n",
    "simple linear regression model.  Our response will be\n",
    " `medv`  and  `lstat`  will be the single predictor.\n",
    "For this model, we can create the model matrix by hand.\n"
   ]
  },
  {
   "cell_type": "code",
   "id": "40e9b0d5",
   "metadata": {
    "execution": {
     "iopub.execute_input": "2024-06-04T23:19:07.996720Z",
     "iopub.status.busy": "2024-06-04T23:19:07.996648Z",
     "iopub.status.idle": "2024-06-04T23:19:08.000848Z",
     "shell.execute_reply": "2024-06-04T23:19:08.000660Z"
    },
    "ExecuteTime": {
     "end_time": "2025-01-09T11:34:44.999553Z",
     "start_time": "2025-01-09T11:34:44.995374Z"
    }
   },
   "source": [
    "X = pd.DataFrame({'intercept': np.ones(Boston.shape[0]),\n",
    "                  'lstat': Boston['lstat']})\n",
    "X[:4]\n"
   ],
   "outputs": [
    {
     "data": {
      "text/plain": [
       "   intercept  lstat\n",
       "0        1.0   4.98\n",
       "1        1.0   9.14\n",
       "2        1.0   4.03\n",
       "3        1.0   2.94"
      ],
      "text/html": [
       "<div>\n",
       "<style scoped>\n",
       "    .dataframe tbody tr th:only-of-type {\n",
       "        vertical-align: middle;\n",
       "    }\n",
       "\n",
       "    .dataframe tbody tr th {\n",
       "        vertical-align: top;\n",
       "    }\n",
       "\n",
       "    .dataframe thead th {\n",
       "        text-align: right;\n",
       "    }\n",
       "</style>\n",
       "<table border=\"1\" class=\"dataframe\">\n",
       "  <thead>\n",
       "    <tr style=\"text-align: right;\">\n",
       "      <th></th>\n",
       "      <th>intercept</th>\n",
       "      <th>lstat</th>\n",
       "    </tr>\n",
       "  </thead>\n",
       "  <tbody>\n",
       "    <tr>\n",
       "      <th>0</th>\n",
       "      <td>1.0</td>\n",
       "      <td>4.98</td>\n",
       "    </tr>\n",
       "    <tr>\n",
       "      <th>1</th>\n",
       "      <td>1.0</td>\n",
       "      <td>9.14</td>\n",
       "    </tr>\n",
       "    <tr>\n",
       "      <th>2</th>\n",
       "      <td>1.0</td>\n",
       "      <td>4.03</td>\n",
       "    </tr>\n",
       "    <tr>\n",
       "      <th>3</th>\n",
       "      <td>1.0</td>\n",
       "      <td>2.94</td>\n",
       "    </tr>\n",
       "  </tbody>\n",
       "</table>\n",
       "</div>"
      ]
     },
     "execution_count": 11,
     "metadata": {},
     "output_type": "execute_result"
    }
   ],
   "execution_count": 11
  },
  {
   "cell_type": "markdown",
   "id": "162d93ef",
   "metadata": {},
   "source": [
    "We extract the response, and fit the model."
   ]
  },
  {
   "cell_type": "code",
   "id": "c1d544d6",
   "metadata": {
    "execution": {
     "iopub.execute_input": "2024-06-04T23:19:08.002003Z",
     "iopub.status.busy": "2024-06-04T23:19:08.001934Z",
     "iopub.status.idle": "2024-06-04T23:19:08.003890Z",
     "shell.execute_reply": "2024-06-04T23:19:08.003673Z"
    },
    "lines_to_next_cell": 0,
    "ExecuteTime": {
     "end_time": "2025-01-09T11:34:45.029726Z",
     "start_time": "2025-01-09T11:34:45.026715Z"
    }
   },
   "source": [
    "y = Boston['medv']\n",
    "model = sm.OLS(y, X)\n",
    "results = model.fit()\n"
   ],
   "outputs": [],
   "execution_count": 12
  },
  {
   "cell_type": "markdown",
   "id": "2a1d62f2",
   "metadata": {},
   "source": [
    "Note that `sm.OLS()` does\n",
    "not fit the model; it specifies the model, and then `model.fit()` does the actual fitting.  \n",
    "\n",
    "Our `ISLP` function `summarize()` produces a simple table of the parameter estimates,\n",
    "their standard errors, t-statistics and p-values.\n",
    "The function takes a single argument, such as the object `results` \n",
    "returned here by the `fit`\n",
    "method, and returns such a summary."
   ]
  },
  {
   "cell_type": "code",
   "id": "3d340a07",
   "metadata": {
    "execution": {
     "iopub.execute_input": "2024-06-04T23:19:08.004988Z",
     "iopub.status.busy": "2024-06-04T23:19:08.004916Z",
     "iopub.status.idle": "2024-06-04T23:19:08.018774Z",
     "shell.execute_reply": "2024-06-04T23:19:08.018578Z"
    },
    "lines_to_next_cell": 2,
    "ExecuteTime": {
     "end_time": "2025-01-09T11:34:45.128972Z",
     "start_time": "2025-01-09T11:34:45.094926Z"
    }
   },
   "source": [
    "summarize(results)\n"
   ],
   "outputs": [
    {
     "data": {
      "text/plain": [
       "              coef  std err       t  P>|t|\n",
       "intercept  34.5538    0.563  61.415    0.0\n",
       "lstat      -0.9500    0.039 -24.528    0.0"
      ],
      "text/html": [
       "<div>\n",
       "<style scoped>\n",
       "    .dataframe tbody tr th:only-of-type {\n",
       "        vertical-align: middle;\n",
       "    }\n",
       "\n",
       "    .dataframe tbody tr th {\n",
       "        vertical-align: top;\n",
       "    }\n",
       "\n",
       "    .dataframe thead th {\n",
       "        text-align: right;\n",
       "    }\n",
       "</style>\n",
       "<table border=\"1\" class=\"dataframe\">\n",
       "  <thead>\n",
       "    <tr style=\"text-align: right;\">\n",
       "      <th></th>\n",
       "      <th>coef</th>\n",
       "      <th>std err</th>\n",
       "      <th>t</th>\n",
       "      <th>P&gt;|t|</th>\n",
       "    </tr>\n",
       "  </thead>\n",
       "  <tbody>\n",
       "    <tr>\n",
       "      <th>intercept</th>\n",
       "      <td>34.5538</td>\n",
       "      <td>0.563</td>\n",
       "      <td>61.415</td>\n",
       "      <td>0.0</td>\n",
       "    </tr>\n",
       "    <tr>\n",
       "      <th>lstat</th>\n",
       "      <td>-0.9500</td>\n",
       "      <td>0.039</td>\n",
       "      <td>-24.528</td>\n",
       "      <td>0.0</td>\n",
       "    </tr>\n",
       "  </tbody>\n",
       "</table>\n",
       "</div>"
      ]
     },
     "execution_count": 13,
     "metadata": {},
     "output_type": "execute_result"
    }
   ],
   "execution_count": 13
  },
  {
   "cell_type": "markdown",
   "id": "31d6b202",
   "metadata": {},
   "source": [
    "Before we describe other methods for working with fitted models, we outline a more useful and general framework for constructing a model matrix~`X`.\n",
    "### Using Transformations: Fit and Transform\n",
    "Our model above has a single predictor, and constructing `X` was straightforward. \n",
    "In practice  we often fit models with more than one predictor, typically selected from an array or data frame.\n",
    "We may wish to introduce transformations to the variables before fitting the model, specify interactions between variables, and expand some particular variables into sets of variables (e.g. polynomials).\n",
    "The `sklearn`  package has a particular notion\n",
    "for this type of task: a *transform*. A transform is an object\n",
    "that is created with some parameters as arguments. The\n",
    "object has two main methods: `fit()` and `transform()`.\n",
    "\n",
    "We provide a general approach for specifying models and constructing\n",
    "the model matrix through the transform `ModelSpec()` in the `ISLP` library.\n",
    "`ModelSpec()`\n",
    "(renamed `MS()` in the preamble) creates a\n",
    "transform object, and then a pair of methods\n",
    "`transform()` and `fit()` are used to construct a\n",
    "corresponding model matrix.\n",
    "\n",
    "We first describe this process for our simple regression model  using a single predictor `lstat` in\n",
    "the `Boston` data frame, but will use it repeatedly in more\n",
    "complex tasks in this and other labs in this book.\n",
    "In our case the transform is created by the expression\n",
    "`design = MS(['lstat'])`.\n",
    "\n",
    "The `fit()`  method takes the original array and may do some\n",
    "initial computations on it, as specified in the transform object.\n",
    "For example, it may compute means and standard deviations for centering and scaling.\n",
    "The `transform()` \n",
    "method applies the fitted transformation to the array of data, and produces the model matrix.\n"
   ]
  },
  {
   "cell_type": "code",
   "id": "11b07af0",
   "metadata": {
    "execution": {
     "iopub.execute_input": "2024-06-04T23:19:08.019954Z",
     "iopub.status.busy": "2024-06-04T23:19:08.019865Z",
     "iopub.status.idle": "2024-06-04T23:19:08.024711Z",
     "shell.execute_reply": "2024-06-04T23:19:08.024511Z"
    },
    "lines_to_next_cell": 0,
    "ExecuteTime": {
     "end_time": "2025-01-09T11:34:45.168177Z",
     "start_time": "2025-01-09T11:34:45.162385Z"
    }
   },
   "source": [
    "design = MS(['lstat'])\n",
    "design = design.fit(Boston)\n",
    "X = design.transform(Boston)\n",
    "X[:4]"
   ],
   "outputs": [
    {
     "data": {
      "text/plain": [
       "   intercept  lstat\n",
       "0        1.0   4.98\n",
       "1        1.0   9.14\n",
       "2        1.0   4.03\n",
       "3        1.0   2.94"
      ],
      "text/html": [
       "<div>\n",
       "<style scoped>\n",
       "    .dataframe tbody tr th:only-of-type {\n",
       "        vertical-align: middle;\n",
       "    }\n",
       "\n",
       "    .dataframe tbody tr th {\n",
       "        vertical-align: top;\n",
       "    }\n",
       "\n",
       "    .dataframe thead th {\n",
       "        text-align: right;\n",
       "    }\n",
       "</style>\n",
       "<table border=\"1\" class=\"dataframe\">\n",
       "  <thead>\n",
       "    <tr style=\"text-align: right;\">\n",
       "      <th></th>\n",
       "      <th>intercept</th>\n",
       "      <th>lstat</th>\n",
       "    </tr>\n",
       "  </thead>\n",
       "  <tbody>\n",
       "    <tr>\n",
       "      <th>0</th>\n",
       "      <td>1.0</td>\n",
       "      <td>4.98</td>\n",
       "    </tr>\n",
       "    <tr>\n",
       "      <th>1</th>\n",
       "      <td>1.0</td>\n",
       "      <td>9.14</td>\n",
       "    </tr>\n",
       "    <tr>\n",
       "      <th>2</th>\n",
       "      <td>1.0</td>\n",
       "      <td>4.03</td>\n",
       "    </tr>\n",
       "    <tr>\n",
       "      <th>3</th>\n",
       "      <td>1.0</td>\n",
       "      <td>2.94</td>\n",
       "    </tr>\n",
       "  </tbody>\n",
       "</table>\n",
       "</div>"
      ]
     },
     "execution_count": 14,
     "metadata": {},
     "output_type": "execute_result"
    }
   ],
   "execution_count": 14
  },
  {
   "cell_type": "markdown",
   "id": "f35e5292",
   "metadata": {},
   "source": [
    "In this simple case, the `fit()`  method does very little; it simply checks that the variable `'lstat'` specified in `design` exists in `Boston`. Then `transform()` constructs the model matrix with two columns: an `intercept` and the variable `lstat`.\n",
    "\n",
    "These two operations can be  combined with the\n",
    "`fit_transform()`  method."
   ]
  },
  {
   "cell_type": "code",
   "id": "d5c7b370",
   "metadata": {
    "execution": {
     "iopub.execute_input": "2024-06-04T23:19:08.025839Z",
     "iopub.status.busy": "2024-06-04T23:19:08.025769Z",
     "iopub.status.idle": "2024-06-04T23:19:08.030216Z",
     "shell.execute_reply": "2024-06-04T23:19:08.030007Z"
    },
    "lines_to_next_cell": 0,
    "ExecuteTime": {
     "end_time": "2025-01-09T11:34:45.212901Z",
     "start_time": "2025-01-09T11:34:45.207423Z"
    }
   },
   "source": [
    "design = MS(['lstat'])\n",
    "X = design.fit_transform(Boston)\n",
    "X[:4]"
   ],
   "outputs": [
    {
     "data": {
      "text/plain": [
       "   intercept  lstat\n",
       "0        1.0   4.98\n",
       "1        1.0   9.14\n",
       "2        1.0   4.03\n",
       "3        1.0   2.94"
      ],
      "text/html": [
       "<div>\n",
       "<style scoped>\n",
       "    .dataframe tbody tr th:only-of-type {\n",
       "        vertical-align: middle;\n",
       "    }\n",
       "\n",
       "    .dataframe tbody tr th {\n",
       "        vertical-align: top;\n",
       "    }\n",
       "\n",
       "    .dataframe thead th {\n",
       "        text-align: right;\n",
       "    }\n",
       "</style>\n",
       "<table border=\"1\" class=\"dataframe\">\n",
       "  <thead>\n",
       "    <tr style=\"text-align: right;\">\n",
       "      <th></th>\n",
       "      <th>intercept</th>\n",
       "      <th>lstat</th>\n",
       "    </tr>\n",
       "  </thead>\n",
       "  <tbody>\n",
       "    <tr>\n",
       "      <th>0</th>\n",
       "      <td>1.0</td>\n",
       "      <td>4.98</td>\n",
       "    </tr>\n",
       "    <tr>\n",
       "      <th>1</th>\n",
       "      <td>1.0</td>\n",
       "      <td>9.14</td>\n",
       "    </tr>\n",
       "    <tr>\n",
       "      <th>2</th>\n",
       "      <td>1.0</td>\n",
       "      <td>4.03</td>\n",
       "    </tr>\n",
       "    <tr>\n",
       "      <th>3</th>\n",
       "      <td>1.0</td>\n",
       "      <td>2.94</td>\n",
       "    </tr>\n",
       "  </tbody>\n",
       "</table>\n",
       "</div>"
      ]
     },
     "execution_count": 15,
     "metadata": {},
     "output_type": "execute_result"
    }
   ],
   "execution_count": 15
  },
  {
   "cell_type": "markdown",
   "id": "8f09689d",
   "metadata": {},
   "source": [
    "Note that, as in the previous code chunk when the two steps were done separately, the `design` object is changed as a result of the `fit()` operation. The power of this pipeline will become clearer when we fit more complex models that involve interactions and transformations."
   ]
  },
  {
   "cell_type": "markdown",
   "id": "94a7c0aa",
   "metadata": {},
   "source": [
    "Let's return to our fitted regression model.\n",
    "The object\n",
    "`results` has several methods that can be used for inference.\n",
    "We already presented a function `summarize()` for showing the essentials of the fit.\n",
    "For a full and somewhat exhaustive summary of the fit, we can use the `summary()` \n",
    "method."
   ]
  },
  {
   "cell_type": "code",
   "id": "5b205c0b",
   "metadata": {
    "execution": {
     "iopub.execute_input": "2024-06-04T23:19:08.031520Z",
     "iopub.status.busy": "2024-06-04T23:19:08.031448Z",
     "iopub.status.idle": "2024-06-04T23:19:08.039162Z",
     "shell.execute_reply": "2024-06-04T23:19:08.038952Z"
    },
    "ExecuteTime": {
     "end_time": "2025-01-09T11:34:45.283739Z",
     "start_time": "2025-01-09T11:34:45.275587Z"
    }
   },
   "source": [
    "results.summary()\n"
   ],
   "outputs": [
    {
     "data": {
      "text/plain": [
       "<class 'statsmodels.iolib.summary.Summary'>\n",
       "\"\"\"\n",
       "                            OLS Regression Results                            \n",
       "==============================================================================\n",
       "Dep. Variable:                   medv   R-squared:                       0.544\n",
       "Model:                            OLS   Adj. R-squared:                  0.543\n",
       "Method:                 Least Squares   F-statistic:                     601.6\n",
       "Date:                Thu, 09 Jan 2025   Prob (F-statistic):           5.08e-88\n",
       "Time:                        15:34:45   Log-Likelihood:                -1641.5\n",
       "No. Observations:                 506   AIC:                             3287.\n",
       "Df Residuals:                     504   BIC:                             3295.\n",
       "Df Model:                           1                                         \n",
       "Covariance Type:            nonrobust                                         \n",
       "==============================================================================\n",
       "                 coef    std err          t      P>|t|      [0.025      0.975]\n",
       "------------------------------------------------------------------------------\n",
       "intercept     34.5538      0.563     61.415      0.000      33.448      35.659\n",
       "lstat         -0.9500      0.039    -24.528      0.000      -1.026      -0.874\n",
       "==============================================================================\n",
       "Omnibus:                      137.043   Durbin-Watson:                   0.892\n",
       "Prob(Omnibus):                  0.000   Jarque-Bera (JB):              291.373\n",
       "Skew:                           1.453   Prob(JB):                     5.36e-64\n",
       "Kurtosis:                       5.319   Cond. No.                         29.7\n",
       "==============================================================================\n",
       "\n",
       "Notes:\n",
       "[1] Standard Errors assume that the covariance matrix of the errors is correctly specified.\n",
       "\"\"\""
      ],
      "text/html": [
       "<table class=\"simpletable\">\n",
       "<caption>OLS Regression Results</caption>\n",
       "<tr>\n",
       "  <th>Dep. Variable:</th>          <td>medv</td>       <th>  R-squared:         </th> <td>   0.544</td>\n",
       "</tr>\n",
       "<tr>\n",
       "  <th>Model:</th>                   <td>OLS</td>       <th>  Adj. R-squared:    </th> <td>   0.543</td>\n",
       "</tr>\n",
       "<tr>\n",
       "  <th>Method:</th>             <td>Least Squares</td>  <th>  F-statistic:       </th> <td>   601.6</td>\n",
       "</tr>\n",
       "<tr>\n",
       "  <th>Date:</th>             <td>Thu, 09 Jan 2025</td> <th>  Prob (F-statistic):</th> <td>5.08e-88</td>\n",
       "</tr>\n",
       "<tr>\n",
       "  <th>Time:</th>                 <td>15:34:45</td>     <th>  Log-Likelihood:    </th> <td> -1641.5</td>\n",
       "</tr>\n",
       "<tr>\n",
       "  <th>No. Observations:</th>      <td>   506</td>      <th>  AIC:               </th> <td>   3287.</td>\n",
       "</tr>\n",
       "<tr>\n",
       "  <th>Df Residuals:</th>          <td>   504</td>      <th>  BIC:               </th> <td>   3295.</td>\n",
       "</tr>\n",
       "<tr>\n",
       "  <th>Df Model:</th>              <td>     1</td>      <th>                     </th>     <td> </td>   \n",
       "</tr>\n",
       "<tr>\n",
       "  <th>Covariance Type:</th>      <td>nonrobust</td>    <th>                     </th>     <td> </td>   \n",
       "</tr>\n",
       "</table>\n",
       "<table class=\"simpletable\">\n",
       "<tr>\n",
       "      <td></td>         <th>coef</th>     <th>std err</th>      <th>t</th>      <th>P>|t|</th>  <th>[0.025</th>    <th>0.975]</th>  \n",
       "</tr>\n",
       "<tr>\n",
       "  <th>intercept</th> <td>   34.5538</td> <td>    0.563</td> <td>   61.415</td> <td> 0.000</td> <td>   33.448</td> <td>   35.659</td>\n",
       "</tr>\n",
       "<tr>\n",
       "  <th>lstat</th>     <td>   -0.9500</td> <td>    0.039</td> <td>  -24.528</td> <td> 0.000</td> <td>   -1.026</td> <td>   -0.874</td>\n",
       "</tr>\n",
       "</table>\n",
       "<table class=\"simpletable\">\n",
       "<tr>\n",
       "  <th>Omnibus:</th>       <td>137.043</td> <th>  Durbin-Watson:     </th> <td>   0.892</td>\n",
       "</tr>\n",
       "<tr>\n",
       "  <th>Prob(Omnibus):</th> <td> 0.000</td>  <th>  Jarque-Bera (JB):  </th> <td> 291.373</td>\n",
       "</tr>\n",
       "<tr>\n",
       "  <th>Skew:</th>          <td> 1.453</td>  <th>  Prob(JB):          </th> <td>5.36e-64</td>\n",
       "</tr>\n",
       "<tr>\n",
       "  <th>Kurtosis:</th>      <td> 5.319</td>  <th>  Cond. No.          </th> <td>    29.7</td>\n",
       "</tr>\n",
       "</table><br/><br/>Notes:<br/>[1] Standard Errors assume that the covariance matrix of the errors is correctly specified."
      ],
      "text/latex": "\\begin{center}\n\\begin{tabular}{lclc}\n\\toprule\n\\textbf{Dep. Variable:}    &       medv       & \\textbf{  R-squared:         } &     0.544   \\\\\n\\textbf{Model:}            &       OLS        & \\textbf{  Adj. R-squared:    } &     0.543   \\\\\n\\textbf{Method:}           &  Least Squares   & \\textbf{  F-statistic:       } &     601.6   \\\\\n\\textbf{Date:}             & Thu, 09 Jan 2025 & \\textbf{  Prob (F-statistic):} &  5.08e-88   \\\\\n\\textbf{Time:}             &     15:34:45     & \\textbf{  Log-Likelihood:    } &   -1641.5   \\\\\n\\textbf{No. Observations:} &         506      & \\textbf{  AIC:               } &     3287.   \\\\\n\\textbf{Df Residuals:}     &         504      & \\textbf{  BIC:               } &     3295.   \\\\\n\\textbf{Df Model:}         &           1      & \\textbf{                     } &             \\\\\n\\textbf{Covariance Type:}  &    nonrobust     & \\textbf{                     } &             \\\\\n\\bottomrule\n\\end{tabular}\n\\begin{tabular}{lcccccc}\n                   & \\textbf{coef} & \\textbf{std err} & \\textbf{t} & \\textbf{P$> |$t$|$} & \\textbf{[0.025} & \\textbf{0.975]}  \\\\\n\\midrule\n\\textbf{intercept} &      34.5538  &        0.563     &    61.415  &         0.000        &       33.448    &       35.659     \\\\\n\\textbf{lstat}     &      -0.9500  &        0.039     &   -24.528  &         0.000        &       -1.026    &       -0.874     \\\\\n\\bottomrule\n\\end{tabular}\n\\begin{tabular}{lclc}\n\\textbf{Omnibus:}       & 137.043 & \\textbf{  Durbin-Watson:     } &    0.892  \\\\\n\\textbf{Prob(Omnibus):} &   0.000 & \\textbf{  Jarque-Bera (JB):  } &  291.373  \\\\\n\\textbf{Skew:}          &   1.453 & \\textbf{  Prob(JB):          } & 5.36e-64  \\\\\n\\textbf{Kurtosis:}      &   5.319 & \\textbf{  Cond. No.          } &     29.7  \\\\\n\\bottomrule\n\\end{tabular}\n%\\caption{OLS Regression Results}\n\\end{center}\n\nNotes: \\newline\n [1] Standard Errors assume that the covariance matrix of the errors is correctly specified."
     },
     "execution_count": 16,
     "metadata": {},
     "output_type": "execute_result"
    }
   ],
   "execution_count": 16
  },
  {
   "cell_type": "markdown",
   "id": "6c30baa4",
   "metadata": {},
   "source": [
    "The fitted coefficients can also be retrieved as the\n",
    "`params` attribute of `results`."
   ]
  },
  {
   "cell_type": "markdown",
   "id": "fb7bbd4c",
   "metadata": {},
   "source": [
    "The `get_prediction()`  method can be used to obtain predictions, and produce confidence intervals and\n",
    "prediction intervals for the prediction of  `medv`  for  given values of  `lstat`.\n",
    "\n",
    "We first create a new data frame, in this case containing only the variable `lstat`, with the values for this variable at which we wish to make predictions.\n",
    "We then use the `transform()` method of `design` to create the corresponding model matrix."
   ]
  },
  {
   "cell_type": "code",
   "id": "195e0ace",
   "metadata": {
    "execution": {
     "iopub.execute_input": "2024-06-04T23:19:08.043693Z",
     "iopub.status.busy": "2024-06-04T23:19:08.043622Z",
     "iopub.status.idle": "2024-06-04T23:19:08.046777Z",
     "shell.execute_reply": "2024-06-04T23:19:08.046559Z"
    },
    "ExecuteTime": {
     "end_time": "2025-01-09T11:34:45.405215Z",
     "start_time": "2025-01-09T11:34:45.400899Z"
    }
   },
   "source": [
    "new_df = pd.DataFrame({'lstat':[5, 10, 15]})\n",
    "newX = design.transform(new_df)\n",
    "newX\n"
   ],
   "outputs": [
    {
     "data": {
      "text/plain": [
       "   intercept  lstat\n",
       "0        1.0      5\n",
       "1        1.0     10\n",
       "2        1.0     15"
      ],
      "text/html": [
       "<div>\n",
       "<style scoped>\n",
       "    .dataframe tbody tr th:only-of-type {\n",
       "        vertical-align: middle;\n",
       "    }\n",
       "\n",
       "    .dataframe tbody tr th {\n",
       "        vertical-align: top;\n",
       "    }\n",
       "\n",
       "    .dataframe thead th {\n",
       "        text-align: right;\n",
       "    }\n",
       "</style>\n",
       "<table border=\"1\" class=\"dataframe\">\n",
       "  <thead>\n",
       "    <tr style=\"text-align: right;\">\n",
       "      <th></th>\n",
       "      <th>intercept</th>\n",
       "      <th>lstat</th>\n",
       "    </tr>\n",
       "  </thead>\n",
       "  <tbody>\n",
       "    <tr>\n",
       "      <th>0</th>\n",
       "      <td>1.0</td>\n",
       "      <td>5</td>\n",
       "    </tr>\n",
       "    <tr>\n",
       "      <th>1</th>\n",
       "      <td>1.0</td>\n",
       "      <td>10</td>\n",
       "    </tr>\n",
       "    <tr>\n",
       "      <th>2</th>\n",
       "      <td>1.0</td>\n",
       "      <td>15</td>\n",
       "    </tr>\n",
       "  </tbody>\n",
       "</table>\n",
       "</div>"
      ]
     },
     "execution_count": 18,
     "metadata": {},
     "output_type": "execute_result"
    }
   ],
   "execution_count": 18
  },
  {
   "cell_type": "markdown",
   "id": "43565f15",
   "metadata": {},
   "source": [
    "Next we compute the predictions at `newX`, and view them by extracting the `predicted_mean` attribute."
   ]
  },
  {
   "cell_type": "code",
   "id": "768374f6",
   "metadata": {
    "execution": {
     "iopub.execute_input": "2024-06-04T23:19:08.047996Z",
     "iopub.status.busy": "2024-06-04T23:19:08.047918Z",
     "iopub.status.idle": "2024-06-04T23:19:08.049956Z",
     "shell.execute_reply": "2024-06-04T23:19:08.049747Z"
    },
    "lines_to_next_cell": 0,
    "ExecuteTime": {
     "end_time": "2025-01-09T11:34:45.456092Z",
     "start_time": "2025-01-09T11:34:45.453752Z"
    }
   },
   "source": [
    "new_predictions = results.get_prediction(newX);\n",
    "new_predictions.predicted_mean\n"
   ],
   "outputs": [
    {
     "data": {
      "text/plain": [
       "array([29.80359411, 25.05334734, 20.30310057])"
      ]
     },
     "execution_count": 19,
     "metadata": {},
     "output_type": "execute_result"
    }
   ],
   "execution_count": 19
  },
  {
   "cell_type": "markdown",
   "id": "313c1720",
   "metadata": {},
   "source": [
    "We can produce confidence intervals for the predicted values."
   ]
  },
  {
   "cell_type": "code",
   "id": "1a86b943",
   "metadata": {
    "execution": {
     "iopub.execute_input": "2024-06-04T23:19:08.051110Z",
     "iopub.status.busy": "2024-06-04T23:19:08.051038Z",
     "iopub.status.idle": "2024-06-04T23:19:08.052989Z",
     "shell.execute_reply": "2024-06-04T23:19:08.052779Z"
    },
    "lines_to_next_cell": 0,
    "ExecuteTime": {
     "end_time": "2025-01-09T11:34:45.503940Z",
     "start_time": "2025-01-09T11:34:45.501517Z"
    }
   },
   "source": [
    "new_predictions.conf_int(alpha=0.05)\n"
   ],
   "outputs": [
    {
     "data": {
      "text/plain": [
       "array([[29.00741194, 30.59977628],\n",
       "       [24.47413202, 25.63256267],\n",
       "       [19.73158815, 20.87461299]])"
      ]
     },
     "execution_count": 20,
     "metadata": {},
     "output_type": "execute_result"
    }
   ],
   "execution_count": 20
  },
  {
   "cell_type": "markdown",
   "id": "3595344e",
   "metadata": {},
   "source": [
    "Prediction intervals are computing by setting `obs=True`:"
   ]
  },
  {
   "cell_type": "code",
   "id": "ea9727ca",
   "metadata": {
    "execution": {
     "iopub.execute_input": "2024-06-04T23:19:08.054282Z",
     "iopub.status.busy": "2024-06-04T23:19:08.054215Z",
     "iopub.status.idle": "2024-06-04T23:19:08.056172Z",
     "shell.execute_reply": "2024-06-04T23:19:08.055964Z"
    },
    "lines_to_next_cell": 0,
    "ExecuteTime": {
     "end_time": "2025-01-09T11:34:45.552768Z",
     "start_time": "2025-01-09T11:34:45.550516Z"
    }
   },
   "source": [
    "new_predictions.conf_int(obs=True, alpha=0.05)\n"
   ],
   "outputs": [
    {
     "data": {
      "text/plain": [
       "array([[17.56567478, 42.04151344],\n",
       "       [12.82762635, 37.27906833],\n",
       "       [ 8.0777421 , 32.52845905]])"
      ]
     },
     "execution_count": 21,
     "metadata": {},
     "output_type": "execute_result"
    }
   ],
   "execution_count": 21
  },
  {
   "cell_type": "markdown",
   "id": "b157334d",
   "metadata": {},
   "source": [
    " For instance, the 95% confidence interval associated with an\n",
    " `lstat`  value of 10 is (24.47, 25.63), and the 95% prediction\n",
    "interval is (12.82, 37.28).  As expected, the confidence and\n",
    "prediction intervals are centered around the same point (a predicted\n",
    "value of 25.05 for  `medv`  when  `lstat`  equals\n",
    "10), but the latter are substantially wider.\n",
    "\n",
    "Next we will plot  `medv`  and  `lstat` \n",
    "using `DataFrame.plot.scatter()`, \\definelongblankMR{plot.scatter()}{plot.slashslashscatter()}\n",
    "and wish to\n",
    "add the regression line to the resulting plot."
   ]
  },
  {
   "cell_type": "markdown",
   "id": "05f5b29a",
   "metadata": {},
   "source": [
    "### Defining Functions\n",
    "While there is a function\n",
    "within the `ISLP` package that adds a line to an existing plot, we take this opportunity\n",
    "to define our first function to do so."
   ]
  },
  {
   "cell_type": "code",
   "id": "796c20f6",
   "metadata": {
    "execution": {
     "iopub.execute_input": "2024-06-04T23:19:08.057406Z",
     "iopub.status.busy": "2024-06-04T23:19:08.057339Z",
     "iopub.status.idle": "2024-06-04T23:19:08.059024Z",
     "shell.execute_reply": "2024-06-04T23:19:08.058807Z"
    },
    "lines_to_next_cell": 0,
    "ExecuteTime": {
     "end_time": "2025-01-09T11:34:45.602462Z",
     "start_time": "2025-01-09T11:34:45.600572Z"
    }
   },
   "source": [
    "def abline(ax, b, m):\n",
    "    \"Add a line with slope m and intercept b to ax\"\n",
    "    xlim = ax.get_xlim()\n",
    "    ylim = [m * xlim[0] + b, m * xlim[1] + b]\n",
    "    ax.plot(xlim, ylim)\n"
   ],
   "outputs": [],
   "execution_count": 22
  },
  {
   "cell_type": "markdown",
   "id": "5eb99e73",
   "metadata": {},
   "source": [
    " A few things are illustrated above. First we see the syntax for defining a function:\n",
    "`def funcname(...)`. The function has arguments `ax, b, m`\n",
    "where `ax` is an axis object for an exisiting plot, `b` is the intercept and\n",
    "`m` is the slope of the desired line. Other plotting  options can be passed on to\n",
    "`ax.plot` by including additional optional arguments as follows:"
   ]
  },
  {
   "cell_type": "code",
   "id": "a258b8c0",
   "metadata": {
    "execution": {
     "iopub.execute_input": "2024-06-04T23:19:08.060183Z",
     "iopub.status.busy": "2024-06-04T23:19:08.060117Z",
     "iopub.status.idle": "2024-06-04T23:19:08.061624Z",
     "shell.execute_reply": "2024-06-04T23:19:08.061396Z"
    },
    "lines_to_next_cell": 0,
    "ExecuteTime": {
     "end_time": "2025-01-09T11:34:45.630689Z",
     "start_time": "2025-01-09T11:34:45.629107Z"
    }
   },
   "source": [
    "def abline(ax, b, m, *args, **kwargs):\n",
    "    \"Add a line with slope m and intercept b to ax\"\n",
    "    xlim = ax.get_xlim()\n",
    "    ylim = [m * xlim[0] + b, m * xlim[1] + b]\n",
    "    ax.plot(xlim, ylim, *args, **kwargs)\n"
   ],
   "outputs": [],
   "execution_count": 23
  },
  {
   "cell_type": "markdown",
   "id": "be8f4615",
   "metadata": {},
   "source": [
    "The addition of `*args` allows any number of\n",
    "non-named arguments to `abline`, while `*kwargs` allows any\n",
    "number of named arguments (such as `linewidth=3`) to `abline`.\n",
    "In our function, we pass\n",
    "these arguments verbatim to `ax.plot` above. Readers\n",
    "interested in learning more about\n",
    "functions are referred to the section on\n",
    "defining functions in [docs.python.org/tutorial](https://docs.python.org/3/tutorial/controlflow.html#defining-functions).\n",
    "\n",
    "Let’s use our new function to add this regression line to a plot of\n",
    "`medv` vs. `lstat`."
   ]
  },
  {
   "cell_type": "code",
   "id": "391346fbaeb8128",
   "metadata": {
    "ExecuteTime": {
     "end_time": "2025-01-09T11:34:45.667235Z",
     "start_time": "2025-01-09T11:34:45.664836Z"
    }
   },
   "source": "results.params",
   "outputs": [
    {
     "data": {
      "text/plain": [
       "intercept    34.553841\n",
       "lstat        -0.950049\n",
       "dtype: float64"
      ]
     },
     "execution_count": 24,
     "metadata": {},
     "output_type": "execute_result"
    }
   ],
   "execution_count": 24
  },
  {
   "metadata": {
    "execution": {
     "iopub.execute_input": "2024-06-04T23:19:08.062821Z",
     "iopub.status.busy": "2024-06-04T23:19:08.062745Z",
     "iopub.status.idle": "2024-06-04T23:19:08.177528Z",
     "shell.execute_reply": "2024-06-04T23:19:08.175973Z"
    },
    "lines_to_next_cell": 0,
    "ExecuteTime": {
     "end_time": "2025-01-09T11:34:45.815382Z",
     "start_time": "2025-01-09T11:34:45.709922Z"
    }
   },
   "cell_type": "code",
   "source": [
    "ax = Boston.plot.scatter('lstat', 'medv')\n",
    "abline(ax,\n",
    "       results.params.iloc[0],\n",
    "       results.params.iloc[1],\n",
    "       'r--',\n",
    "       linewidth=3)\n"
   ],
   "id": "56b75491",
   "outputs": [
    {
     "data": {
      "text/plain": [
       "<Figure size 640x480 with 1 Axes>"
      ],
      "image/png": "[encoded data removed]"
     },
     "metadata": {},
     "output_type": "display_data"
    }
   ],
   "execution_count": 25
  },
  {
   "cell_type": "markdown",
   "id": "04a1e56f",
   "metadata": {},
   "source": [
    "Thus, the final call to `ax.plot()` is `ax.plot(xlim, ylim, 'r--', linewidth=3)`.\n",
    "We have used the argument `'r--'` to produce a red dashed line, and added\n",
    "an argument to make it of width 3.\n",
    "There is some evidence for non-linearity in the relationship between  `lstat`  and  `medv`. We will explore this issue later in this lab.\n",
    "\n",
    "As mentioned above, there is an existing function to add a line to a plot --- `ax.axline()` --- but knowing how to write such functions empowers us to create more expressive displays.\n",
    "\n"
   ]
  },
  {
   "cell_type": "markdown",
   "id": "1a083307",
   "metadata": {},
   "source": [
    "Next we examine some diagnostic plots, several of which were discussed\n",
    "in Section~\\ref{Ch3:problems.sec}.\n",
    "We can find the fitted values and residuals\n",
    "of the fit as attributes of the `results` object.\n",
    "Various influence measures describing the regression model\n",
    "are computed with the `get_influence()` method.\n",
    "As we will not use the `fig` component returned\n",
    "as the first value from `subplots()`, we simply\n",
    "capture the second returned value in `ax` below."
   ]
  },
  {
   "cell_type": "code",
   "id": "74be2100",
   "metadata": {
    "execution": {
     "iopub.execute_input": "2024-06-04T23:19:08.180863Z",
     "iopub.status.busy": "2024-06-04T23:19:08.180691Z",
     "iopub.status.idle": "2024-06-04T23:19:08.331926Z",
     "shell.execute_reply": "2024-06-04T23:19:08.331152Z"
    },
    "lines_to_next_cell": 0,
    "ExecuteTime": {
     "end_time": "2025-01-09T11:34:45.928404Z",
     "start_time": "2025-01-09T11:34:45.868825Z"
    }
   },
   "source": [
    "ax = subplots(figsize=(8,8))[1]\n",
    "ax.scatter(results.fittedvalues, results.resid)\n",
    "ax.set_xlabel('Fitted value')\n",
    "ax.set_ylabel('Residual')\n",
    "ax.axhline(0, c='k', ls='--');\n"
   ],
   "outputs": [
    {
     "data": {
      "text/plain": [
       "<Figure size 800x800 with 1 Axes>"
      ],
      "image/png": "[encoded data removed]"
     },
     "metadata": {},
     "output_type": "display_data"
    }
   ],
   "execution_count": 26
  },
  {
   "cell_type": "markdown",
   "id": "c00db5a1",
   "metadata": {},
   "source": [
    " We add a horizontal line at 0 for reference using the\n",
    " `ax.axhline()`   method, indicating\n",
    "it should be black (`c='k'`) and have a dashed linestyle (`ls='--'`).\n",
    "\n",
    "On the basis of the residual plot, there is some evidence of non-linearity.\n",
    "Leverage statistics can be computed for any number of predictors using the\n",
    "`hat_matrix_diag` attribute of the value returned by the\n",
    "`get_influence()`  method."
   ]
  },
  {
   "cell_type": "code",
   "id": "db8bc925",
   "metadata": {
    "execution": {
     "iopub.execute_input": "2024-06-04T23:19:08.334603Z",
     "iopub.status.busy": "2024-06-04T23:19:08.334424Z",
     "iopub.status.idle": "2024-06-04T23:19:08.403949Z",
     "shell.execute_reply": "2024-06-04T23:19:08.403703Z"
    },
    "lines_to_next_cell": 0,
    "ExecuteTime": {
     "end_time": "2025-01-09T11:34:45.992037Z",
     "start_time": "2025-01-09T11:34:45.948785Z"
    }
   },
   "source": [
    "infl = results.get_influence()\n",
    "ax = subplots(figsize=(8,8))[1]\n",
    "ax.scatter(np.arange(X.shape[0]), infl.hat_matrix_diag)\n",
    "ax.set_xlabel('Index')\n",
    "ax.set_ylabel('Leverage')\n",
    "np.argmax(infl.hat_matrix_diag)\n"
   ],
   "outputs": [
    {
     "data": {
      "text/plain": [
       "374"
      ]
     },
     "execution_count": 27,
     "metadata": {},
     "output_type": "execute_result"
    },
    {
     "data": {
      "text/plain": [
       "<Figure size 800x800 with 1 Axes>"
      ],
      "image/png": "[encoded data removed]"
     },
     "metadata": {},
     "output_type": "display_data"
    }
   ],
   "execution_count": 27
  },
  {
   "cell_type": "markdown",
   "id": "4e7aa0bb",
   "metadata": {},
   "source": [
    " The `np.argmax()`  function identifies the index of the largest element of an array, optionally computed over an axis of the array.\n",
    "In this case, we maximized over the entire array\n",
    "to determine which observation has the largest leverage statistic."
   ]
  },
  {
   "cell_type": "markdown",
   "id": "e98db373",
   "metadata": {},
   "source": [
    "## Multiple Linear Regression\n",
    "In order to fit a multiple linear regression model using least squares, we again use\n",
    "the `ModelSpec()`  transform to construct the required\n",
    "model matrix and response. The arguments\n",
    "to `ModelSpec()` can be quite general, but in this case\n",
    "a list of column names suffice. We consider a fit here with\n",
    "the two variables `lstat` and `age`."
   ]
  },
  {
   "cell_type": "code",
   "id": "e479373c",
   "metadata": {
    "execution": {
     "iopub.execute_input": "2024-06-04T23:19:08.405606Z",
     "iopub.status.busy": "2024-06-04T23:19:08.405477Z",
     "iopub.status.idle": "2024-06-04T23:19:08.415531Z",
     "shell.execute_reply": "2024-06-04T23:19:08.415300Z"
    },
    "lines_to_next_cell": 0,
    "ExecuteTime": {
     "end_time": "2025-01-09T11:34:46.012251Z",
     "start_time": "2025-01-09T11:34:46.001557Z"
    }
   },
   "source": [
    "X = MS(['lstat', 'age']).fit_transform(Boston)\n",
    "model1 = sm.OLS(y, X)\n",
    "results1 = model1.fit()\n",
    "summarize(results1)"
   ],
   "outputs": [
    {
     "data": {
      "text/plain": [
       "              coef  std err       t  P>|t|\n",
       "intercept  33.2228    0.731  45.458  0.000\n",
       "lstat      -1.0321    0.048 -21.416  0.000\n",
       "age         0.0345    0.012   2.826  0.005"
      ],
      "text/html": [
       "<div>\n",
       "<style scoped>\n",
       "    .dataframe tbody tr th:only-of-type {\n",
       "        vertical-align: middle;\n",
       "    }\n",
       "\n",
       "    .dataframe tbody tr th {\n",
       "        vertical-align: top;\n",
       "    }\n",
       "\n",
       "    .dataframe thead th {\n",
       "        text-align: right;\n",
       "    }\n",
       "</style>\n",
       "<table border=\"1\" class=\"dataframe\">\n",
       "  <thead>\n",
       "    <tr style=\"text-align: right;\">\n",
       "      <th></th>\n",
       "      <th>coef</th>\n",
       "      <th>std err</th>\n",
       "      <th>t</th>\n",
       "      <th>P&gt;|t|</th>\n",
       "    </tr>\n",
       "  </thead>\n",
       "  <tbody>\n",
       "    <tr>\n",
       "      <th>intercept</th>\n",
       "      <td>33.2228</td>\n",
       "      <td>0.731</td>\n",
       "      <td>45.458</td>\n",
       "      <td>0.000</td>\n",
       "    </tr>\n",
       "    <tr>\n",
       "      <th>lstat</th>\n",
       "      <td>-1.0321</td>\n",
       "      <td>0.048</td>\n",
       "      <td>-21.416</td>\n",
       "      <td>0.000</td>\n",
       "    </tr>\n",
       "    <tr>\n",
       "      <th>age</th>\n",
       "      <td>0.0345</td>\n",
       "      <td>0.012</td>\n",
       "      <td>2.826</td>\n",
       "      <td>0.005</td>\n",
       "    </tr>\n",
       "  </tbody>\n",
       "</table>\n",
       "</div>"
      ]
     },
     "execution_count": 28,
     "metadata": {},
     "output_type": "execute_result"
    }
   ],
   "execution_count": 28
  },
  {
   "cell_type": "markdown",
   "id": "5c79b00d",
   "metadata": {},
   "source": [
    "Notice how we have compacted the first line into a succinct expression describing the construction of `X`.\n",
    "\n",
    "The  `Boston`   data set contains 12 variables, and so it would be cumbersome\n",
    "to have to type all of these in order to perform a regression using all of the predictors.\n",
    "Instead, we can use the following short-hand:\\definelongblankMR{columns.drop()}{columns.slashslashdrop()}"
   ]
  },
  {
   "cell_type": "code",
   "id": "b903170c",
   "metadata": {
    "execution": {
     "iopub.execute_input": "2024-06-04T23:19:08.416871Z",
     "iopub.status.busy": "2024-06-04T23:19:08.416798Z",
     "iopub.status.idle": "2024-06-04T23:19:08.418929Z",
     "shell.execute_reply": "2024-06-04T23:19:08.418717Z"
    },
    "ExecuteTime": {
     "end_time": "2025-01-09T11:34:46.072340Z",
     "start_time": "2025-01-09T11:34:46.069951Z"
    }
   },
   "source": [
    "terms = Boston.columns.drop('medv')\n",
    "terms\n"
   ],
   "outputs": [
    {
     "data": {
      "text/plain": [
       "Index(['crim', 'zn', 'indus', 'chas', 'nox', 'rm', 'age', 'dis', 'rad', 'tax',\n",
       "       'ptratio', 'lstat'],\n",
       "      dtype='object')"
      ]
     },
     "execution_count": 29,
     "metadata": {},
     "output_type": "execute_result"
    }
   ],
   "execution_count": 29
  },
  {
   "cell_type": "markdown",
   "id": "179b7846",
   "metadata": {},
   "source": [
    "We can now fit the model with all the variables in `terms` using\n",
    "the same model matrix builder."
   ]
  },
  {
   "cell_type": "code",
   "id": "bbe47670",
   "metadata": {
    "execution": {
     "iopub.execute_input": "2024-06-04T23:19:08.420168Z",
     "iopub.status.busy": "2024-06-04T23:19:08.420092Z",
     "iopub.status.idle": "2024-06-04T23:19:08.434050Z",
     "shell.execute_reply": "2024-06-04T23:19:08.433809Z"
    },
    "ExecuteTime": {
     "end_time": "2025-01-09T11:34:46.103457Z",
     "start_time": "2025-01-09T11:34:46.090523Z"
    }
   },
   "source": [
    "X = MS(terms).fit_transform(Boston)\n",
    "model = sm.OLS(y, X)\n",
    "results = model.fit()\n",
    "summarize(results)\n"
   ],
   "outputs": [
    {
     "data": {
      "text/plain": [
       "              coef  std err       t  P>|t|\n",
       "intercept  41.6173    4.936   8.431  0.000\n",
       "crim       -0.1214    0.033  -3.678  0.000\n",
       "zn          0.0470    0.014   3.384  0.001\n",
       "indus       0.0135    0.062   0.217  0.829\n",
       "chas        2.8400    0.870   3.264  0.001\n",
       "nox       -18.7580    3.851  -4.870  0.000\n",
       "rm          3.6581    0.420   8.705  0.000\n",
       "age         0.0036    0.013   0.271  0.787\n",
       "dis        -1.4908    0.202  -7.394  0.000\n",
       "rad         0.2894    0.067   4.325  0.000\n",
       "tax        -0.0127    0.004  -3.337  0.001\n",
       "ptratio    -0.9375    0.132  -7.091  0.000\n",
       "lstat      -0.5520    0.051 -10.897  0.000"
      ],
      "text/html": [
       "<div>\n",
       "<style scoped>\n",
       "    .dataframe tbody tr th:only-of-type {\n",
       "        vertical-align: middle;\n",
       "    }\n",
       "\n",
       "    .dataframe tbody tr th {\n",
       "        vertical-align: top;\n",
       "    }\n",
       "\n",
       "    .dataframe thead th {\n",
       "        text-align: right;\n",
       "    }\n",
       "</style>\n",
       "<table border=\"1\" class=\"dataframe\">\n",
       "  <thead>\n",
       "    <tr style=\"text-align: right;\">\n",
       "      <th></th>\n",
       "      <th>coef</th>\n",
       "      <th>std err</th>\n",
       "      <th>t</th>\n",
       "      <th>P&gt;|t|</th>\n",
       "    </tr>\n",
       "  </thead>\n",
       "  <tbody>\n",
       "    <tr>\n",
       "      <th>intercept</th>\n",
       "      <td>41.6173</td>\n",
       "      <td>4.936</td>\n",
       "      <td>8.431</td>\n",
       "      <td>0.000</td>\n",
       "    </tr>\n",
       "    <tr>\n",
       "      <th>crim</th>\n",
       "      <td>-0.1214</td>\n",
       "      <td>0.033</td>\n",
       "      <td>-3.678</td>\n",
       "      <td>0.000</td>\n",
       "    </tr>\n",
       "    <tr>\n",
       "      <th>zn</th>\n",
       "      <td>0.0470</td>\n",
       "      <td>0.014</td>\n",
       "      <td>3.384</td>\n",
       "      <td>0.001</td>\n",
       "    </tr>\n",
       "    <tr>\n",
       "      <th>indus</th>\n",
       "      <td>0.0135</td>\n",
       "      <td>0.062</td>\n",
       "      <td>0.217</td>\n",
       "      <td>0.829</td>\n",
       "    </tr>\n",
       "    <tr>\n",
       "      <th>chas</th>\n",
       "      <td>2.8400</td>\n",
       "      <td>0.870</td>\n",
       "      <td>3.264</td>\n",
       "      <td>0.001</td>\n",
       "    </tr>\n",
       "    <tr>\n",
       "      <th>nox</th>\n",
       "      <td>-18.7580</td>\n",
       "      <td>3.851</td>\n",
       "      <td>-4.870</td>\n",
       "      <td>0.000</td>\n",
       "    </tr>\n",
       "    <tr>\n",
       "      <th>rm</th>\n",
       "      <td>3.6581</td>\n",
       "      <td>0.420</td>\n",
       "      <td>8.705</td>\n",
       "      <td>0.000</td>\n",
       "    </tr>\n",
       "    <tr>\n",
       "      <th>age</th>\n",
       "      <td>0.0036</td>\n",
       "      <td>0.013</td>\n",
       "      <td>0.271</td>\n",
       "      <td>0.787</td>\n",
       "    </tr>\n",
       "    <tr>\n",
       "      <th>dis</th>\n",
       "      <td>-1.4908</td>\n",
       "      <td>0.202</td>\n",
       "      <td>-7.394</td>\n",
       "      <td>0.000</td>\n",
       "    </tr>\n",
       "    <tr>\n",
       "      <th>rad</th>\n",
       "      <td>0.2894</td>\n",
       "      <td>0.067</td>\n",
       "      <td>4.325</td>\n",
       "      <td>0.000</td>\n",
       "    </tr>\n",
       "    <tr>\n",
       "      <th>tax</th>\n",
       "      <td>-0.0127</td>\n",
       "      <td>0.004</td>\n",
       "      <td>-3.337</td>\n",
       "      <td>0.001</td>\n",
       "    </tr>\n",
       "    <tr>\n",
       "      <th>ptratio</th>\n",
       "      <td>-0.9375</td>\n",
       "      <td>0.132</td>\n",
       "      <td>-7.091</td>\n",
       "      <td>0.000</td>\n",
       "    </tr>\n",
       "    <tr>\n",
       "      <th>lstat</th>\n",
       "      <td>-0.5520</td>\n",
       "      <td>0.051</td>\n",
       "      <td>-10.897</td>\n",
       "      <td>0.000</td>\n",
       "    </tr>\n",
       "  </tbody>\n",
       "</table>\n",
       "</div>"
      ]
     },
     "execution_count": 30,
     "metadata": {},
     "output_type": "execute_result"
    }
   ],
   "execution_count": 30
  },
  {
   "cell_type": "markdown",
   "id": "183c3c40",
   "metadata": {},
   "source": [
    "What if we would like to perform a regression using all of the variables but one?  For\n",
    "example, in the above regression output,   `age`  has a high $p$-value.\n",
    "So we may wish to run a regression excluding this predictor.\n",
    "The following syntax results in a regression using all predictors except  `age`."
   ]
  },
  {
   "cell_type": "code",
   "id": "a1484d00",
   "metadata": {
    "execution": {
     "iopub.execute_input": "2024-06-04T23:19:08.435432Z",
     "iopub.status.busy": "2024-06-04T23:19:08.435353Z",
     "iopub.status.idle": "2024-06-04T23:19:08.448669Z",
     "shell.execute_reply": "2024-06-04T23:19:08.448429Z"
    },
    "ExecuteTime": {
     "end_time": "2025-01-09T11:34:46.140312Z",
     "start_time": "2025-01-09T11:34:46.126166Z"
    }
   },
   "source": [
    "minus_age = Boston.columns.drop(['medv', 'age']) \n",
    "Xma = MS(minus_age).fit_transform(Boston)\n",
    "model1 = sm.OLS(y, Xma)\n",
    "summarize(model1.fit())\n"
   ],
   "outputs": [
    {
     "data": {
      "text/plain": [
       "              coef  std err       t  P>|t|\n",
       "intercept  41.5251    4.920   8.441  0.000\n",
       "crim       -0.1214    0.033  -3.683  0.000\n",
       "zn          0.0465    0.014   3.379  0.001\n",
       "indus       0.0135    0.062   0.217  0.829\n",
       "chas        2.8528    0.868   3.287  0.001\n",
       "nox       -18.4851    3.714  -4.978  0.000\n",
       "rm          3.6811    0.411   8.951  0.000\n",
       "dis        -1.5068    0.193  -7.825  0.000\n",
       "rad         0.2879    0.067   4.322  0.000\n",
       "tax        -0.0127    0.004  -3.333  0.001\n",
       "ptratio    -0.9346    0.132  -7.099  0.000\n",
       "lstat      -0.5474    0.048 -11.483  0.000"
      ],
      "text/html": [
       "<div>\n",
       "<style scoped>\n",
       "    .dataframe tbody tr th:only-of-type {\n",
       "        vertical-align: middle;\n",
       "    }\n",
       "\n",
       "    .dataframe tbody tr th {\n",
       "        vertical-align: top;\n",
       "    }\n",
       "\n",
       "    .dataframe thead th {\n",
       "        text-align: right;\n",
       "    }\n",
       "</style>\n",
       "<table border=\"1\" class=\"dataframe\">\n",
       "  <thead>\n",
       "    <tr style=\"text-align: right;\">\n",
       "      <th></th>\n",
       "      <th>coef</th>\n",
       "      <th>std err</th>\n",
       "      <th>t</th>\n",
       "      <th>P&gt;|t|</th>\n",
       "    </tr>\n",
       "  </thead>\n",
       "  <tbody>\n",
       "    <tr>\n",
       "      <th>intercept</th>\n",
       "      <td>41.5251</td>\n",
       "      <td>4.920</td>\n",
       "      <td>8.441</td>\n",
       "      <td>0.000</td>\n",
       "    </tr>\n",
       "    <tr>\n",
       "      <th>crim</th>\n",
       "      <td>-0.1214</td>\n",
       "      <td>0.033</td>\n",
       "      <td>-3.683</td>\n",
       "      <td>0.000</td>\n",
       "    </tr>\n",
       "    <tr>\n",
       "      <th>zn</th>\n",
       "      <td>0.0465</td>\n",
       "      <td>0.014</td>\n",
       "      <td>3.379</td>\n",
       "      <td>0.001</td>\n",
       "    </tr>\n",
       "    <tr>\n",
       "      <th>indus</th>\n",
       "      <td>0.0135</td>\n",
       "      <td>0.062</td>\n",
       "      <td>0.217</td>\n",
       "      <td>0.829</td>\n",
       "    </tr>\n",
       "    <tr>\n",
       "      <th>chas</th>\n",
       "      <td>2.8528</td>\n",
       "      <td>0.868</td>\n",
       "      <td>3.287</td>\n",
       "      <td>0.001</td>\n",
       "    </tr>\n",
       "    <tr>\n",
       "      <th>nox</th>\n",
       "      <td>-18.4851</td>\n",
       "      <td>3.714</td>\n",
       "      <td>-4.978</td>\n",
       "      <td>0.000</td>\n",
       "    </tr>\n",
       "    <tr>\n",
       "      <th>rm</th>\n",
       "      <td>3.6811</td>\n",
       "      <td>0.411</td>\n",
       "      <td>8.951</td>\n",
       "      <td>0.000</td>\n",
       "    </tr>\n",
       "    <tr>\n",
       "      <th>dis</th>\n",
       "      <td>-1.5068</td>\n",
       "      <td>0.193</td>\n",
       "      <td>-7.825</td>\n",
       "      <td>0.000</td>\n",
       "    </tr>\n",
       "    <tr>\n",
       "      <th>rad</th>\n",
       "      <td>0.2879</td>\n",
       "      <td>0.067</td>\n",
       "      <td>4.322</td>\n",
       "      <td>0.000</td>\n",
       "    </tr>\n",
       "    <tr>\n",
       "      <th>tax</th>\n",
       "      <td>-0.0127</td>\n",
       "      <td>0.004</td>\n",
       "      <td>-3.333</td>\n",
       "      <td>0.001</td>\n",
       "    </tr>\n",
       "    <tr>\n",
       "      <th>ptratio</th>\n",
       "      <td>-0.9346</td>\n",
       "      <td>0.132</td>\n",
       "      <td>-7.099</td>\n",
       "      <td>0.000</td>\n",
       "    </tr>\n",
       "    <tr>\n",
       "      <th>lstat</th>\n",
       "      <td>-0.5474</td>\n",
       "      <td>0.048</td>\n",
       "      <td>-11.483</td>\n",
       "      <td>0.000</td>\n",
       "    </tr>\n",
       "  </tbody>\n",
       "</table>\n",
       "</div>"
      ]
     },
     "execution_count": 31,
     "metadata": {},
     "output_type": "execute_result"
    }
   ],
   "execution_count": 31
  },
  {
   "cell_type": "markdown",
   "id": "74ec4654",
   "metadata": {},
   "source": [
    "## Multivariate Goodness of Fit\n",
    "We can access the individual components of `results` by name\n",
    "(`dir(results)` shows us what is available). Hence\n",
    "`results.rsquared` gives us the $R^2$,\n",
    "and\n",
    "`np.sqrt(results.scale)` gives us the RSE.\n",
    "\n",
    "Variance inflation factors (section~\\ref{Ch3:problems.sec}) are sometimes useful\n",
    "to assess the effect of collinearity in the model matrix of a regression model.\n",
    "We will compute the VIFs in our multiple regression fit, and use the opportunity to introduce the idea of *list comprehension*.\n",
    "\n",
    "### List Comprehension\n",
    "Often we encounter a sequence of objects which we would like to transform\n",
    "for some other task. Below, we compute the VIF for each\n",
    "feature in our `X` matrix and produce a data frame\n",
    "whose index agrees with the columns of `X`.\n",
    "The notion of list comprehension can often make such\n",
    "a task easier.\n",
    "\n",
    "List comprehensions are simple and powerful ways to form\n",
    "lists of `Python` objects. The language also supports\n",
    "dictionary and *generator* comprehension, though these are\n",
    "beyond our scope here. Let's look at an example. We compute the VIF for each of the variables\n",
    "in the model matrix `X`, using the function `variance_inflation_factor()`.\n"
   ]
  },
  {
   "cell_type": "code",
   "id": "46ac946c",
   "metadata": {
    "execution": {
     "iopub.execute_input": "2024-06-04T23:19:08.449986Z",
     "iopub.status.busy": "2024-06-04T23:19:08.449918Z",
     "iopub.status.idle": "2024-06-04T23:19:08.455447Z",
     "shell.execute_reply": "2024-06-04T23:19:08.455211Z"
    },
    "lines_to_next_cell": 0,
    "ExecuteTime": {
     "end_time": "2025-01-09T11:34:46.181172Z",
     "start_time": "2025-01-09T11:34:46.175378Z"
    }
   },
   "source": [
    "vals = [VIF(X, i)\n",
    "        for i in range(1, X.shape[1])]\n",
    "vif = pd.DataFrame({'vif':vals},\n",
    "                   index=X.columns[1:])\n",
    "vif\n"
   ],
   "outputs": [
    {
     "data": {
      "text/plain": [
       "              vif\n",
       "crim     1.767486\n",
       "zn       2.298459\n",
       "indus    3.987181\n",
       "chas     1.071168\n",
       "nox      4.369093\n",
       "rm       1.912532\n",
       "age      3.088232\n",
       "dis      3.954037\n",
       "rad      7.445301\n",
       "tax      9.002158\n",
       "ptratio  1.797060\n",
       "lstat    2.870777"
      ],
      "text/html": [
       "<div>\n",
       "<style scoped>\n",
       "    .dataframe tbody tr th:only-of-type {\n",
       "        vertical-align: middle;\n",
       "    }\n",
       "\n",
       "    .dataframe tbody tr th {\n",
       "        vertical-align: top;\n",
       "    }\n",
       "\n",
       "    .dataframe thead th {\n",
       "        text-align: right;\n",
       "    }\n",
       "</style>\n",
       "<table border=\"1\" class=\"dataframe\">\n",
       "  <thead>\n",
       "    <tr style=\"text-align: right;\">\n",
       "      <th></th>\n",
       "      <th>vif</th>\n",
       "    </tr>\n",
       "  </thead>\n",
       "  <tbody>\n",
       "    <tr>\n",
       "      <th>crim</th>\n",
       "      <td>1.767486</td>\n",
       "    </tr>\n",
       "    <tr>\n",
       "      <th>zn</th>\n",
       "      <td>2.298459</td>\n",
       "    </tr>\n",
       "    <tr>\n",
       "      <th>indus</th>\n",
       "      <td>3.987181</td>\n",
       "    </tr>\n",
       "    <tr>\n",
       "      <th>chas</th>\n",
       "      <td>1.071168</td>\n",
       "    </tr>\n",
       "    <tr>\n",
       "      <th>nox</th>\n",
       "      <td>4.369093</td>\n",
       "    </tr>\n",
       "    <tr>\n",
       "      <th>rm</th>\n",
       "      <td>1.912532</td>\n",
       "    </tr>\n",
       "    <tr>\n",
       "      <th>age</th>\n",
       "      <td>3.088232</td>\n",
       "    </tr>\n",
       "    <tr>\n",
       "      <th>dis</th>\n",
       "      <td>3.954037</td>\n",
       "    </tr>\n",
       "    <tr>\n",
       "      <th>rad</th>\n",
       "      <td>7.445301</td>\n",
       "    </tr>\n",
       "    <tr>\n",
       "      <th>tax</th>\n",
       "      <td>9.002158</td>\n",
       "    </tr>\n",
       "    <tr>\n",
       "      <th>ptratio</th>\n",
       "      <td>1.797060</td>\n",
       "    </tr>\n",
       "    <tr>\n",
       "      <th>lstat</th>\n",
       "      <td>2.870777</td>\n",
       "    </tr>\n",
       "  </tbody>\n",
       "</table>\n",
       "</div>"
      ]
     },
     "execution_count": 32,
     "metadata": {},
     "output_type": "execute_result"
    }
   ],
   "execution_count": 32
  },
  {
   "cell_type": "markdown",
   "id": "45a29903",
   "metadata": {},
   "source": [
    "The function `VIF()` takes two arguments: a dataframe or array,\n",
    "and a variable column index. In the code above we call `VIF()` on the fly for all columns in `X`.  \n",
    "We have excluded column 0 above (the intercept), which is not of interest. In this case the VIFs are not that exciting.\n",
    "\n",
    "The object `vals` above could have been constructed with the following for loop:"
   ]
  },
  {
   "cell_type": "code",
   "id": "b626ecb9",
   "metadata": {
    "execution": {
     "iopub.execute_input": "2024-06-04T23:19:08.456814Z",
     "iopub.status.busy": "2024-06-04T23:19:08.456747Z",
     "iopub.status.idle": "2024-06-04T23:19:08.461039Z",
     "shell.execute_reply": "2024-06-04T23:19:08.460801Z"
    },
    "lines_to_next_cell": 0,
    "ExecuteTime": {
     "end_time": "2025-01-09T11:34:46.259351Z",
     "start_time": "2025-01-09T11:34:46.255047Z"
    }
   },
   "source": [
    "vals = []\n",
    "for i in range(1, X.values.shape[1]):\n",
    "    vals.append(VIF(X.values, i))\n"
   ],
   "outputs": [],
   "execution_count": 33
  },
  {
   "cell_type": "markdown",
   "id": "6e504ae2",
   "metadata": {},
   "source": [
    "List comprehension allows us to perform such repetitive operations in a more straightforward way.\n",
    "## Interaction Terms\n",
    "It is easy to include interaction terms in a linear model using `ModelSpec()`.\n",
    "Including a tuple `(\"lstat\",\"age\")` tells the model\n",
    "matrix builder to include an interaction term between\n",
    " `lstat`  and  `age`."
   ]
  },
  {
   "cell_type": "code",
   "id": "8bf77477",
   "metadata": {
    "execution": {
     "iopub.execute_input": "2024-06-04T23:19:08.462456Z",
     "iopub.status.busy": "2024-06-04T23:19:08.462383Z",
     "iopub.status.idle": "2024-06-04T23:19:08.473081Z",
     "shell.execute_reply": "2024-06-04T23:19:08.472857Z"
    },
    "lines_to_next_cell": 2,
    "ExecuteTime": {
     "end_time": "2025-01-09T11:34:46.312036Z",
     "start_time": "2025-01-09T11:34:46.302250Z"
    }
   },
   "source": [
    "X = MS(['lstat',\n",
    "        'age',\n",
    "        ('lstat', 'age')]).fit_transform(Boston)\n",
    "model2 = sm.OLS(y, X)\n",
    "summarize(model2.fit())\n"
   ],
   "outputs": [
    {
     "data": {
      "text/plain": [
       "              coef  std err       t  P>|t|\n",
       "intercept  36.0885    1.470  24.553  0.000\n",
       "lstat      -1.3921    0.167  -8.313  0.000\n",
       "age        -0.0007    0.020  -0.036  0.971\n",
       "lstat:age   0.0042    0.002   2.244  0.025"
      ],
      "text/html": [
       "<div>\n",
       "<style scoped>\n",
       "    .dataframe tbody tr th:only-of-type {\n",
       "        vertical-align: middle;\n",
       "    }\n",
       "\n",
       "    .dataframe tbody tr th {\n",
       "        vertical-align: top;\n",
       "    }\n",
       "\n",
       "    .dataframe thead th {\n",
       "        text-align: right;\n",
       "    }\n",
       "</style>\n",
       "<table border=\"1\" class=\"dataframe\">\n",
       "  <thead>\n",
       "    <tr style=\"text-align: right;\">\n",
       "      <th></th>\n",
       "      <th>coef</th>\n",
       "      <th>std err</th>\n",
       "      <th>t</th>\n",
       "      <th>P&gt;|t|</th>\n",
       "    </tr>\n",
       "  </thead>\n",
       "  <tbody>\n",
       "    <tr>\n",
       "      <th>intercept</th>\n",
       "      <td>36.0885</td>\n",
       "      <td>1.470</td>\n",
       "      <td>24.553</td>\n",
       "      <td>0.000</td>\n",
       "    </tr>\n",
       "    <tr>\n",
       "      <th>lstat</th>\n",
       "      <td>-1.3921</td>\n",
       "      <td>0.167</td>\n",
       "      <td>-8.313</td>\n",
       "      <td>0.000</td>\n",
       "    </tr>\n",
       "    <tr>\n",
       "      <th>age</th>\n",
       "      <td>-0.0007</td>\n",
       "      <td>0.020</td>\n",
       "      <td>-0.036</td>\n",
       "      <td>0.971</td>\n",
       "    </tr>\n",
       "    <tr>\n",
       "      <th>lstat:age</th>\n",
       "      <td>0.0042</td>\n",
       "      <td>0.002</td>\n",
       "      <td>2.244</td>\n",
       "      <td>0.025</td>\n",
       "    </tr>\n",
       "  </tbody>\n",
       "</table>\n",
       "</div>"
      ]
     },
     "execution_count": 34,
     "metadata": {},
     "output_type": "execute_result"
    }
   ],
   "execution_count": 34
  },
  {
   "cell_type": "markdown",
   "id": "e2323ab9",
   "metadata": {},
   "source": [
    "## Non-linear Transformations of the Predictors\n",
    "The model matrix builder can include terms beyond\n",
    "just column names and interactions. For instance,\n",
    "the `poly()` function supplied in `ISLP` specifies that\n",
    "columns representing polynomial functions\n",
    "of its first argument are added to the model matrix."
   ]
  },
  {
   "cell_type": "code",
   "id": "6289c3cb",
   "metadata": {
    "execution": {
     "iopub.execute_input": "2024-06-04T23:19:08.474420Z",
     "iopub.status.busy": "2024-06-04T23:19:08.474348Z",
     "iopub.status.idle": "2024-06-04T23:19:08.484309Z",
     "shell.execute_reply": "2024-06-04T23:19:08.484088Z"
    },
    "lines_to_next_cell": 0,
    "ExecuteTime": {
     "end_time": "2025-01-09T11:34:46.360717Z",
     "start_time": "2025-01-09T11:34:46.352237Z"
    }
   },
   "source": [
    "X = MS([poly('lstat', degree=2), 'age']).fit_transform(Boston)\n",
    "model3 = sm.OLS(y, X)\n",
    "results3 = model3.fit()\n",
    "summarize(results3)\n"
   ],
   "outputs": [
    {
     "data": {
      "text/plain": [
       "                              coef  std err       t  P>|t|\n",
       "intercept                  17.7151    0.781  22.681    0.0\n",
       "poly(lstat, degree=2)[0] -179.2279    6.733 -26.620    0.0\n",
       "poly(lstat, degree=2)[1]   72.9908    5.482  13.315    0.0\n",
       "age                         0.0703    0.011   6.471    0.0"
      ],
      "text/html": [
       "<div>\n",
       "<style scoped>\n",
       "    .dataframe tbody tr th:only-of-type {\n",
       "        vertical-align: middle;\n",
       "    }\n",
       "\n",
       "    .dataframe tbody tr th {\n",
       "        vertical-align: top;\n",
       "    }\n",
       "\n",
       "    .dataframe thead th {\n",
       "        text-align: right;\n",
       "    }\n",
       "</style>\n",
       "<table border=\"1\" class=\"dataframe\">\n",
       "  <thead>\n",
       "    <tr style=\"text-align: right;\">\n",
       "      <th></th>\n",
       "      <th>coef</th>\n",
       "      <th>std err</th>\n",
       "      <th>t</th>\n",
       "      <th>P&gt;|t|</th>\n",
       "    </tr>\n",
       "  </thead>\n",
       "  <tbody>\n",
       "    <tr>\n",
       "      <th>intercept</th>\n",
       "      <td>17.7151</td>\n",
       "      <td>0.781</td>\n",
       "      <td>22.681</td>\n",
       "      <td>0.0</td>\n",
       "    </tr>\n",
       "    <tr>\n",
       "      <th>poly(lstat, degree=2)[0]</th>\n",
       "      <td>-179.2279</td>\n",
       "      <td>6.733</td>\n",
       "      <td>-26.620</td>\n",
       "      <td>0.0</td>\n",
       "    </tr>\n",
       "    <tr>\n",
       "      <th>poly(lstat, degree=2)[1]</th>\n",
       "      <td>72.9908</td>\n",
       "      <td>5.482</td>\n",
       "      <td>13.315</td>\n",
       "      <td>0.0</td>\n",
       "    </tr>\n",
       "    <tr>\n",
       "      <th>age</th>\n",
       "      <td>0.0703</td>\n",
       "      <td>0.011</td>\n",
       "      <td>6.471</td>\n",
       "      <td>0.0</td>\n",
       "    </tr>\n",
       "  </tbody>\n",
       "</table>\n",
       "</div>"
      ]
     },
     "execution_count": 35,
     "metadata": {},
     "output_type": "execute_result"
    }
   ],
   "execution_count": 35
  },
  {
   "cell_type": "markdown",
   "id": "2bd67b14",
   "metadata": {},
   "source": [
    "The effectively zero *p*-value associated with the quadratic term\n",
    "(i.e. the third row above) suggests that it leads to an improved model.\n",
    "\n",
    "By default, `poly()` creates a basis matrix for inclusion in the\n",
    "model matrix whose\n",
    "columns are *orthogonal polynomials*, which are designed for stable\n",
    "least squares computations. {Actually, `poly()` is a  wrapper for the workhorse and standalone  function `Poly()` that does the  work in building the model matrix.}\n",
    "Alternatively, had we included an argument\n",
    "`raw=True` in the above call to `poly()`, the basis matrix would consist simply of\n",
    "`lstat` and `lstat**2`. Since either of these bases\n",
    "represent quadratic polynomials, the fitted values  would not\n",
    "change in this case, just the polynomial coefficients.  Also by default, the columns\n",
    "created by `poly()` do not include an intercept column as\n",
    "that is automatically added by `MS()`.\n",
    "\n",
    "We use the `anova_lm()` function to further quantify the extent to which the quadratic fit is\n",
    "superior to the linear fit."
   ]
  },
  {
   "cell_type": "code",
   "id": "b6542ac6",
   "metadata": {
    "execution": {
     "iopub.execute_input": "2024-06-04T23:19:08.485627Z",
     "iopub.status.busy": "2024-06-04T23:19:08.485562Z",
     "iopub.status.idle": "2024-06-04T23:19:08.489875Z",
     "shell.execute_reply": "2024-06-04T23:19:08.489670Z"
    },
    "lines_to_next_cell": 0,
    "ExecuteTime": {
     "end_time": "2025-01-09T11:34:46.389010Z",
     "start_time": "2025-01-09T11:34:46.384842Z"
    }
   },
   "source": [
    "anova_lm(results1, results3)\n"
   ],
   "outputs": [
    {
     "data": {
      "text/plain": [
       "   df_resid           ssr  df_diff      ss_diff           F        Pr(>F)\n",
       "0     503.0  19168.128609      0.0          NaN         NaN           NaN\n",
       "1     502.0  14165.613251      1.0  5002.515357  177.278785  7.468491e-35"
      ],
      "text/html": [
       "<div>\n",
       "<style scoped>\n",
       "    .dataframe tbody tr th:only-of-type {\n",
       "        vertical-align: middle;\n",
       "    }\n",
       "\n",
       "    .dataframe tbody tr th {\n",
       "        vertical-align: top;\n",
       "    }\n",
       "\n",
       "    .dataframe thead th {\n",
       "        text-align: right;\n",
       "    }\n",
       "</style>\n",
       "<table border=\"1\" class=\"dataframe\">\n",
       "  <thead>\n",
       "    <tr style=\"text-align: right;\">\n",
       "      <th></th>\n",
       "      <th>df_resid</th>\n",
       "      <th>ssr</th>\n",
       "      <th>df_diff</th>\n",
       "      <th>ss_diff</th>\n",
       "      <th>F</th>\n",
       "      <th>Pr(&gt;F)</th>\n",
       "    </tr>\n",
       "  </thead>\n",
       "  <tbody>\n",
       "    <tr>\n",
       "      <th>0</th>\n",
       "      <td>503.0</td>\n",
       "      <td>19168.128609</td>\n",
       "      <td>0.0</td>\n",
       "      <td>NaN</td>\n",
       "      <td>NaN</td>\n",
       "      <td>NaN</td>\n",
       "    </tr>\n",
       "    <tr>\n",
       "      <th>1</th>\n",
       "      <td>502.0</td>\n",
       "      <td>14165.613251</td>\n",
       "      <td>1.0</td>\n",
       "      <td>5002.515357</td>\n",
       "      <td>177.278785</td>\n",
       "      <td>7.468491e-35</td>\n",
       "    </tr>\n",
       "  </tbody>\n",
       "</table>\n",
       "</div>"
      ]
     },
     "execution_count": 36,
     "metadata": {},
     "output_type": "execute_result"
    }
   ],
   "execution_count": 36
  },
  {
   "cell_type": "markdown",
   "id": "3685159a",
   "metadata": {},
   "source": [
    "Here `results1` represents the linear submodel containing\n",
    "predictors `lstat` and `age`,\n",
    "while `results3` corresponds to the larger model above  with a quadratic\n",
    "term in `lstat`.\n",
    "The `anova_lm()` function performs a hypothesis test\n",
    "comparing the two models. The null hypothesis is that the quadratic\n",
    "term in the bigger model is not needed, and the alternative hypothesis is that the\n",
    "bigger model is superior. Here the *F*-statistic is 177.28 and\n",
    "the associated *p*-value is zero.\n",
    "In this case the *F*-statistic is the square of the\n",
    "*t*-statistic for the quadratic term in the linear model summary\n",
    "for `results3` --- a consequence of the fact that these nested\n",
    "models differ by one degree of freedom.\n",
    "This provides very clear evidence that the quadratic polynomial in\n",
    "`lstat` improves the linear model.\n",
    "This is not surprising, since earlier we saw evidence for non-linearity in the relationship between `medv`\n",
    "and  `lstat`.\n",
    "\n",
    "The function `anova_lm()` can take more than two nested models\n",
    "as input, in which case it compares every successive pair of models.\n",
    "That also explains why their are `NaN`s in the first row above, since\n",
    "there is no previous model with which to compare the first.\n"
   ]
  },
  {
   "cell_type": "code",
   "id": "8e4c6004",
   "metadata": {
    "execution": {
     "iopub.execute_input": "2024-06-04T23:19:08.491175Z",
     "iopub.status.busy": "2024-06-04T23:19:08.491086Z",
     "iopub.status.idle": "2024-06-04T23:19:08.560976Z",
     "shell.execute_reply": "2024-06-04T23:19:08.560698Z"
    },
    "lines_to_next_cell": 0,
    "ExecuteTime": {
     "end_time": "2025-01-09T11:34:46.499475Z",
     "start_time": "2025-01-09T11:34:46.454613Z"
    }
   },
   "source": [
    "ax = subplots(figsize=(8,8))[1]\n",
    "ax.scatter(results3.fittedvalues, results3.resid)\n",
    "ax.set_xlabel('Fitted value')\n",
    "ax.set_ylabel('Residual')\n",
    "ax.axhline(0, c='k', ls='--');\n"
   ],
   "outputs": [
    {
     "data": {
      "text/plain": [
       "<Figure size 800x800 with 1 Axes>"
      ],
      "image/png": "[encoded data removed]"
     },
     "metadata": {},
     "output_type": "display_data"
    }
   ],
   "execution_count": 37
  },
  {
   "cell_type": "markdown",
   "id": "3c7e0661",
   "metadata": {},
   "source": [
    "We see that when the quadratic term is included in the model,\n",
    "there is little discernible pattern in the residuals.\n",
    "In order to create a cubic or higher-degree polynomial fit, we can simply change the degree argument\n",
    "to `poly()`.\n"
   ]
  },
  {
   "cell_type": "markdown",
   "id": "46a4967d",
   "metadata": {},
   "source": [
    "## Qualitative Predictors\n",
    "Here we use the  `Carseats`  data, which is included in the\n",
    "`ISLP` package. We will  attempt to predict `Sales`\n",
    "(child car seat sales) in 400 locations based on a number of\n",
    "predictors."
   ]
  },
  {
   "cell_type": "code",
   "id": "a83f4bd2",
   "metadata": {
    "execution": {
     "iopub.execute_input": "2024-06-04T23:19:08.562367Z",
     "iopub.status.busy": "2024-06-04T23:19:08.562269Z",
     "iopub.status.idle": "2024-06-04T23:19:08.565879Z",
     "shell.execute_reply": "2024-06-04T23:19:08.565674Z"
    },
    "lines_to_next_cell": 0,
    "ExecuteTime": {
     "end_time": "2025-01-09T11:34:46.532700Z",
     "start_time": "2025-01-09T11:34:46.528086Z"
    }
   },
   "source": [
    "Carseats = load_data('Carseats')\n",
    "Carseats.columns\n"
   ],
   "outputs": [
    {
     "data": {
      "text/plain": [
       "Index(['Sales', 'CompPrice', 'Income', 'Advertising', 'Population', 'Price',\n",
       "       'ShelveLoc', 'Age', 'Education', 'Urban', 'US'],\n",
       "      dtype='object')"
      ]
     },
     "execution_count": 38,
     "metadata": {},
     "output_type": "execute_result"
    }
   ],
   "execution_count": 38
  },
  {
   "cell_type": "markdown",
   "id": "69025ecd",
   "metadata": {},
   "source": [
    "The `Carseats`  \n",
    " data includes qualitative predictors such as\n",
    " `ShelveLoc`, an indicator of the quality of the shelving\n",
    " location --- that is,\n",
    "the  space within a store in which the car seat is displayed. The predictor\n",
    " `ShelveLoc`  takes on three possible values, `Bad`, `Medium`, and `Good`.\n",
    "Given a qualitative variable such as  `ShelveLoc`, `ModelSpec()` generates dummy\n",
    "variables automatically.\n",
    "These variables are often referred to as a *one-hot encoding* of the categorical\n",
    "feature. Their columns sum to one, so to avoid collinearity with an intercept, the first column is dropped. Below we see\n",
    "the column `ShelveLoc[Bad]` has been dropped, since `Bad` is the first level of `ShelveLoc`.\n",
    "Below we fit a multiple regression model that includes some interaction terms."
   ]
  },
  {
   "cell_type": "code",
   "id": "24efc6f1",
   "metadata": {
    "execution": {
     "iopub.execute_input": "2024-06-04T23:19:08.567067Z",
     "iopub.status.busy": "2024-06-04T23:19:08.566984Z",
     "iopub.status.idle": "2024-06-04T23:19:08.585971Z",
     "shell.execute_reply": "2024-06-04T23:19:08.585717Z"
    },
    "lines_to_next_cell": 0,
    "ExecuteTime": {
     "end_time": "2025-01-09T11:34:46.582412Z",
     "start_time": "2025-01-09T11:34:46.564269Z"
    }
   },
   "source": [
    "allvars = list(Carseats.columns.drop('Sales'))\n",
    "y = Carseats['Sales']\n",
    "final = allvars + [('Income', 'Advertising'),\n",
    "                   ('Price', 'Age')]\n",
    "X = MS(final).fit_transform(Carseats)\n",
    "model = sm.OLS(y, X)\n",
    "summarize(model.fit())\n"
   ],
   "outputs": [
    {
     "data": {
      "text/plain": [
       "                      coef  std err       t  P>|t|\n",
       "intercept           6.5756    1.009   6.519  0.000\n",
       "CompPrice           0.0929    0.004  22.567  0.000\n",
       "Income              0.0109    0.003   4.183  0.000\n",
       "Advertising         0.0702    0.023   3.107  0.002\n",
       "Population          0.0002    0.000   0.433  0.665\n",
       "Price              -0.1008    0.007 -13.549  0.000\n",
       "ShelveLoc[Good]     4.8487    0.153  31.724  0.000\n",
       "ShelveLoc[Medium]   1.9533    0.126  15.531  0.000\n",
       "Age                -0.0579    0.016  -3.633  0.000\n",
       "Education          -0.0209    0.020  -1.063  0.288\n",
       "Urban[Yes]          0.1402    0.112   1.247  0.213\n",
       "US[Yes]            -0.1576    0.149  -1.058  0.291\n",
       "Income:Advertising  0.0008    0.000   2.698  0.007\n",
       "Price:Age           0.0001    0.000   0.801  0.424"
      ],
      "text/html": [
       "<div>\n",
       "<style scoped>\n",
       "    .dataframe tbody tr th:only-of-type {\n",
       "        vertical-align: middle;\n",
       "    }\n",
       "\n",
       "    .dataframe tbody tr th {\n",
       "        vertical-align: top;\n",
       "    }\n",
       "\n",
       "    .dataframe thead th {\n",
       "        text-align: right;\n",
       "    }\n",
       "</style>\n",
       "<table border=\"1\" class=\"dataframe\">\n",
       "  <thead>\n",
       "    <tr style=\"text-align: right;\">\n",
       "      <th></th>\n",
       "      <th>coef</th>\n",
       "      <th>std err</th>\n",
       "      <th>t</th>\n",
       "      <th>P&gt;|t|</th>\n",
       "    </tr>\n",
       "  </thead>\n",
       "  <tbody>\n",
       "    <tr>\n",
       "      <th>intercept</th>\n",
       "      <td>6.5756</td>\n",
       "      <td>1.009</td>\n",
       "      <td>6.519</td>\n",
       "      <td>0.000</td>\n",
       "    </tr>\n",
       "    <tr>\n",
       "      <th>CompPrice</th>\n",
       "      <td>0.0929</td>\n",
       "      <td>0.004</td>\n",
       "      <td>22.567</td>\n",
       "      <td>0.000</td>\n",
       "    </tr>\n",
       "    <tr>\n",
       "      <th>Income</th>\n",
       "      <td>0.0109</td>\n",
       "      <td>0.003</td>\n",
       "      <td>4.183</td>\n",
       "      <td>0.000</td>\n",
       "    </tr>\n",
       "    <tr>\n",
       "      <th>Advertising</th>\n",
       "      <td>0.0702</td>\n",
       "      <td>0.023</td>\n",
       "      <td>3.107</td>\n",
       "      <td>0.002</td>\n",
       "    </tr>\n",
       "    <tr>\n",
       "      <th>Population</th>\n",
       "      <td>0.0002</td>\n",
       "      <td>0.000</td>\n",
       "      <td>0.433</td>\n",
       "      <td>0.665</td>\n",
       "    </tr>\n",
       "    <tr>\n",
       "      <th>Price</th>\n",
       "      <td>-0.1008</td>\n",
       "      <td>0.007</td>\n",
       "      <td>-13.549</td>\n",
       "      <td>0.000</td>\n",
       "    </tr>\n",
       "    <tr>\n",
       "      <th>ShelveLoc[Good]</th>\n",
       "      <td>4.8487</td>\n",
       "      <td>0.153</td>\n",
       "      <td>31.724</td>\n",
       "      <td>0.000</td>\n",
       "    </tr>\n",
       "    <tr>\n",
       "      <th>ShelveLoc[Medium]</th>\n",
       "      <td>1.9533</td>\n",
       "      <td>0.126</td>\n",
       "      <td>15.531</td>\n",
       "      <td>0.000</td>\n",
       "    </tr>\n",
       "    <tr>\n",
       "      <th>Age</th>\n",
       "      <td>-0.0579</td>\n",
       "      <td>0.016</td>\n",
       "      <td>-3.633</td>\n",
       "      <td>0.000</td>\n",
       "    </tr>\n",
       "    <tr>\n",
       "      <th>Education</th>\n",
       "      <td>-0.0209</td>\n",
       "      <td>0.020</td>\n",
       "      <td>-1.063</td>\n",
       "      <td>0.288</td>\n",
       "    </tr>\n",
       "    <tr>\n",
       "      <th>Urban[Yes]</th>\n",
       "      <td>0.1402</td>\n",
       "      <td>0.112</td>\n",
       "      <td>1.247</td>\n",
       "      <td>0.213</td>\n",
       "    </tr>\n",
       "    <tr>\n",
       "      <th>US[Yes]</th>\n",
       "      <td>-0.1576</td>\n",
       "      <td>0.149</td>\n",
       "      <td>-1.058</td>\n",
       "      <td>0.291</td>\n",
       "    </tr>\n",
       "    <tr>\n",
       "      <th>Income:Advertising</th>\n",
       "      <td>0.0008</td>\n",
       "      <td>0.000</td>\n",
       "      <td>2.698</td>\n",
       "      <td>0.007</td>\n",
       "    </tr>\n",
       "    <tr>\n",
       "      <th>Price:Age</th>\n",
       "      <td>0.0001</td>\n",
       "      <td>0.000</td>\n",
       "      <td>0.801</td>\n",
       "      <td>0.424</td>\n",
       "    </tr>\n",
       "  </tbody>\n",
       "</table>\n",
       "</div>"
      ]
     },
     "execution_count": 39,
     "metadata": {},
     "output_type": "execute_result"
    }
   ],
   "execution_count": 39
  },
  {
   "cell_type": "markdown",
   "id": "a8a76419",
   "metadata": {},
   "source": [
    "In the first line above, we made `allvars` a list, so that we\n",
    "could add the interaction terms two lines down. \n",
    "Our model-matrix builder has created a `ShelveLoc[Good]`\n",
    "dummy variable that takes on a value of 1 if the\n",
    "shelving location is good, and 0 otherwise. It has also created a `ShelveLoc[Medium]`\n",
    "dummy variable that equals 1 if the shelving location is medium, and 0 otherwise.\n",
    "A bad shelving location corresponds to a zero for each of the two dummy variables.\n",
    "The fact that the coefficient for `ShelveLoc[Good]` in the regression output is\n",
    "positive indicates that a good shelving location is associated with high sales (relative to a bad location).\n",
    "And `ShelveLoc[Medium]` has a smaller positive coefficient,\n",
    "indicating that a medium shelving location leads to higher sales than a bad\n",
    "shelving location, but lower sales than a good shelving location.\n",
    "\n"
   ]
  }
 ],
 "metadata": {
  "jupytext": {
   "cell_metadata_filter": "-all",
   "main_language": "python",
   "notebook_metadata_filter": "-all"
  },
  "language_info": {
   "codemirror_mode": {
    "name": "ipython",
    "version": 3
   },
   "file_extension": ".py",
   "mimetype": "text/x-python",
   "name": "python",
   "nbconvert_exporter": "python",
   "pygments_lexer": "ipython3",
   "version": "3.12.3"
  },
  "kernelspec": {
   "name": "python3",
   "language": "python",
   "display_name": "Python 3 (ipykernel)"
  }
 },
 "nbformat": 4,
 "nbformat_minor": 5
}
